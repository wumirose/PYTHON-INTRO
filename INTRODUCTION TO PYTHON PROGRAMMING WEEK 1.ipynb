{
 "cells": [
  {
   "cell_type": "markdown",
   "metadata": {},
   "source": [
    "# Data Science Nigeria: Introductory Python Training\n",
    "\n",
    "<img src= './Images/Capture.jpg', width= 1000, height = 60000>",
    "\n",
    "# Course Outline"
   ]
  },
  {
   "cell_type": "code",
   "execution_count": 1,
   "metadata": {},
   "outputs": [
    {
     "data": {
      "text/html": [
       "\n",
       "        <iframe\n",
       "            width=\"800\"\n",
       "            height=\"400\"\n",
       "            src=\"./Course Outline.pdf\"\n",
       "            frameborder=\"0\"\n",
       "            allowfullscreen\n",
       "        ></iframe>\n",
       "        "
      ],
      "text/plain": [
       "<IPython.lib.display.IFrame at 0x2220ed60fd0>"
      ]
     },
     "execution_count": 1,
     "metadata": {},
     "output_type": "execute_result"
    }
   ],
   "source": [
    "from IPython.display import IFrame\n",
    "IFrame (\"./Course Outline.pdf\", width = 800, height = 400)"
   ]
  },
  {
   "cell_type": "markdown",
   "metadata": {},
   "source": [
    "# <font color=green> Week 1:Introduction\n",
    " * Brief Introduction: Aims, Objectives and Deliverables\n",
    " * Python Setup\n",
    " * Python Basics: Variables, Operators, Strings, Input"
   ]
  },
  {
   "cell_type": "markdown",
   "metadata": {},
   "source": [
    "## Brief Introduction:\n",
    "* Why Programming? \n",
    "\n",
    "**Programming improves persepective to problem solving**\n",
    "> Note that, It is difficult for people to conceptualize structures they can’t describe, verbally or in writing \n",
    "\n",
    "* Types of Programming Language\n",
    "    1. High Level Language: Basic, Python, Java, C# etc\n",
    "    2. Low Level Language\n",
    "\n",
    "\n",
    "* Why Python?\n",
    "\n",
    "**Python is a general-purpose, beginner friendly language, which can be used to build virtually anything. It can be used for web development, desktop app development, gaming, data analysis, Artificial intellingence, scientific computing etc. Increasing  community of python users is another reason for choosing PYTHON**\n",
    "\n",
    "Remember,\n",
    "\n",
    ">The larger a community, the more likely you'd get help and the more people will be building useful tools to ease the process of development.\n",
    "\n",
    "\n",
    "* Python Setup\n",
    "\n",
    "For this training, we will be using one of the most popular framework used for data science and machine learning known as **Anaconda**. You can download the correct version of anaconda <a href=\"https://www.anaconda.com/distribution/\">here </a>as it relates to your op erating system – Windows, Mac or Linux.\n",
    "\n",
    "<img src= './Images/Capture.jpg', width= 1000, height = 60000>"
   ]
  },
  {
   "cell_type": "markdown",
   "metadata": {},
   "source": [
    "# Python Basics"
   ]
  },
  {
   "cell_type": "markdown",
   "metadata": {},
   "source": [
    "## OPERANDS, OPERATORS and EXPRESSIONS\n",
    "\n",
    "**OPERATORS: ** These are signs and symbols used to manipulate values of operands for computation e.g. %, +, -, /, *\n",
    "\n",
    "**OPERANDS: ** These are the values that the operator operates on e.g. 2, 3, A, B, C, 100 \n",
    "\n",
    "**EXPRESSION: ** This can be described as meaningful combination of operators and operands e.g. A + (B * C) / D\n",
    "\n",
    "**Types of Operator**\n",
    "\n",
    "* Arithmetic Operators : for arithmetic operations like addition, subtraction, division, multiplication etc\n",
    "   * + , - , /, % , // , *\n",
    "   \n",
    "   Arithmetic Operations: \n",
    "   * A + B\n",
    "   * 50 + 2\n",
    "   * B * C\n",
    "   \n",
    "* Comparison (Relational) Operators: for comparism beetween too or more values  \n",
    "   * ==, != , > , < , >= , <=\n",
    "   \n",
    "   Relational Operations: The output of relational operation is either True or False\n",
    "   * A == B\n",
    "   * 5 > 8\n",
    "   \n",
    "* Assignment Operators: This is used to assign the result of an expression to a new variable name\n",
    "   * =, +=, -+, *=, %=, /=\n",
    "   \n",
    "   Assignment Operations:\n",
    "   \n",
    "   * Result = 2 + 4\n",
    "   * Ans = A + (B * C) / D\n",
    "   \n",
    "* Logical Operators : Compares the result of two or more relational operations\n",
    "\n",
    "   * AND, OR, not\n",
    "\n",
    "    Logical operations:\n",
    "    \n",
    "    * A and B\n",
    "    * not A\n",
    "    * A 0r B\n",
    "    \n",
    "* Bitwise Operators : They are used to perform binary operations \n",
    "   * & (and), | (or), ^ (Xor), ~ (complement/negation), << >> (Binary shift left and right)\n",
    "   \n",
    "   Bitwise Operations:\n",
    "   \n",
    "   * 3 & 2\n",
    "   * 3 | 2\n",
    "   * ~3\n",
    "   * 3 ^ 2\n",
    "   * 3 >> 2"
   ]
  },
  {
   "cell_type": "markdown",
   "metadata": {},
   "source": [
    "**Arithmetic operations**  \n"
   ]
  },
  {
   "cell_type": "code",
   "execution_count": 2,
   "metadata": {},
   "outputs": [
    {
     "data": {
      "text/plain": [
       "10"
      ]
     },
     "execution_count": 2,
     "metadata": {},
     "output_type": "execute_result"
    }
   ],
   "source": [
    "6 + 4"
   ]
  },
  {
   "cell_type": "code",
   "execution_count": 3,
   "metadata": {},
   "outputs": [
    {
     "data": {
      "text/plain": [
       "2"
      ]
     },
     "execution_count": 3,
     "metadata": {},
     "output_type": "execute_result"
    }
   ],
   "source": [
    "6 - 4"
   ]
  },
  {
   "cell_type": "code",
   "execution_count": 4,
   "metadata": {},
   "outputs": [
    {
     "data": {
      "text/plain": [
       "1.5"
      ]
     },
     "execution_count": 4,
     "metadata": {},
     "output_type": "execute_result"
    }
   ],
   "source": [
    "6 / 4"
   ]
  },
  {
   "cell_type": "code",
   "execution_count": 5,
   "metadata": {},
   "outputs": [
    {
     "data": {
      "text/plain": [
       "1"
      ]
     },
     "execution_count": 5,
     "metadata": {},
     "output_type": "execute_result"
    }
   ],
   "source": [
    "6 // 4"
   ]
  },
  {
   "cell_type": "code",
   "execution_count": 6,
   "metadata": {},
   "outputs": [
    {
     "data": {
      "text/plain": [
       "24"
      ]
     },
     "execution_count": 6,
     "metadata": {},
     "output_type": "execute_result"
    }
   ],
   "source": [
    "6 * 4"
   ]
  },
  {
   "cell_type": "code",
   "execution_count": 7,
   "metadata": {},
   "outputs": [
    {
     "data": {
      "text/plain": [
       "1296"
      ]
     },
     "execution_count": 7,
     "metadata": {},
     "output_type": "execute_result"
    }
   ],
   "source": [
    "6 ** 4"
   ]
  },
  {
   "cell_type": "code",
   "execution_count": 8,
   "metadata": {},
   "outputs": [
    {
     "data": {
      "text/plain": [
       "2"
      ]
     },
     "execution_count": 8,
     "metadata": {},
     "output_type": "execute_result"
    }
   ],
   "source": [
    "6 % 4"
   ]
  },
  {
   "cell_type": "markdown",
   "metadata": {},
   "source": [
    "**Relational Operations**  "
   ]
  },
  {
   "cell_type": "code",
   "execution_count": 9,
   "metadata": {},
   "outputs": [
    {
     "data": {
      "text/plain": [
       "False"
      ]
     },
     "execution_count": 9,
     "metadata": {},
     "output_type": "execute_result"
    }
   ],
   "source": [
    " 6 == 4"
   ]
  },
  {
   "cell_type": "code",
   "execution_count": 10,
   "metadata": {},
   "outputs": [
    {
     "data": {
      "text/plain": [
       "True"
      ]
     },
     "execution_count": 10,
     "metadata": {},
     "output_type": "execute_result"
    }
   ],
   "source": [
    "6 != 4"
   ]
  },
  {
   "cell_type": "code",
   "execution_count": 11,
   "metadata": {},
   "outputs": [
    {
     "data": {
      "text/plain": [
       "True"
      ]
     },
     "execution_count": 11,
     "metadata": {},
     "output_type": "execute_result"
    }
   ],
   "source": [
    "6 > 4"
   ]
  },
  {
   "cell_type": "code",
   "execution_count": 12,
   "metadata": {},
   "outputs": [
    {
     "data": {
      "text/plain": [
       "False"
      ]
     },
     "execution_count": 12,
     "metadata": {},
     "output_type": "execute_result"
    }
   ],
   "source": [
    "6 < 4"
   ]
  },
  {
   "cell_type": "code",
   "execution_count": 13,
   "metadata": {},
   "outputs": [
    {
     "data": {
      "text/plain": [
       "True"
      ]
     },
     "execution_count": 13,
     "metadata": {},
     "output_type": "execute_result"
    }
   ],
   "source": [
    "6 >= 4"
   ]
  },
  {
   "cell_type": "code",
   "execution_count": 14,
   "metadata": {},
   "outputs": [
    {
     "data": {
      "text/plain": [
       "False"
      ]
     },
     "execution_count": 14,
     "metadata": {},
     "output_type": "execute_result"
    }
   ],
   "source": [
    "6 <= 4"
   ]
  },
  {
   "cell_type": "markdown",
   "metadata": {},
   "source": [
    "**Assignment Operations**"
   ]
  },
  {
   "cell_type": "code",
   "execution_count": 15,
   "metadata": {},
   "outputs": [
    {
     "data": {
      "text/plain": [
       "6"
      ]
     },
     "execution_count": 15,
     "metadata": {},
     "output_type": "execute_result"
    }
   ],
   "source": [
    "Result = 2 + 4\n",
    "\n",
    "Result"
   ]
  },
  {
   "cell_type": "markdown",
   "metadata": {},
   "source": [
    "Here, the result of expression **2 + 4** is assigned to an new variable called **Result**\n",
    "Having created a memeory space named Result,We can -->\n",
    "\n",
    "* add to its content with +=\n",
    "* subtract from its content with -=\n",
    "* multiply its content with *=\n",
    "* Divide its content with /="
   ]
  },
  {
   "cell_type": "code",
   "execution_count": 16,
   "metadata": {},
   "outputs": [
    {
     "data": {
      "text/plain": [
       "56"
      ]
     },
     "execution_count": 16,
     "metadata": {},
     "output_type": "execute_result"
    }
   ],
   "source": [
    "Result += 50\n",
    "\n",
    "Result"
   ]
  },
  {
   "cell_type": "code",
   "execution_count": 17,
   "metadata": {},
   "outputs": [
    {
     "data": {
      "text/plain": [
       "53"
      ]
     },
     "execution_count": 17,
     "metadata": {},
     "output_type": "execute_result"
    }
   ],
   "source": [
    "Result -= 3\n",
    "\n",
    "Result"
   ]
  },
  {
   "cell_type": "code",
   "execution_count": 18,
   "metadata": {},
   "outputs": [
    {
     "data": {
      "text/plain": [
       "10.6"
      ]
     },
     "execution_count": 18,
     "metadata": {},
     "output_type": "execute_result"
    }
   ],
   "source": [
    "Result /= 5\n",
    "\n",
    "Result"
   ]
  },
  {
   "cell_type": "code",
   "execution_count": 19,
   "metadata": {},
   "outputs": [
    {
     "data": {
      "text/plain": [
       "21.2"
      ]
     },
     "execution_count": 19,
     "metadata": {},
     "output_type": "execute_result"
    }
   ],
   "source": [
    "Result *= 2\n",
    "\n",
    "Result"
   ]
  },
  {
   "cell_type": "markdown",
   "metadata": {},
   "source": [
    "**Logical Operations**"
   ]
  },
  {
   "cell_type": "code",
   "execution_count": 20,
   "metadata": {},
   "outputs": [
    {
     "data": {
      "text/plain": [
       "False"
      ]
     },
     "execution_count": 20,
     "metadata": {},
     "output_type": "execute_result"
    }
   ],
   "source": [
    " 6 == 4 and 6 != 4"
   ]
  },
  {
   "cell_type": "code",
   "execution_count": 21,
   "metadata": {},
   "outputs": [
    {
     "data": {
      "text/plain": [
       "True"
      ]
     },
     "execution_count": 21,
     "metadata": {},
     "output_type": "execute_result"
    }
   ],
   "source": [
    " 6 == 4 or 6 != 4"
   ]
  },
  {
   "cell_type": "markdown",
   "metadata": {},
   "source": [
    "**Bitwise Operations**"
   ]
  },
  {
   "cell_type": "markdown",
   "metadata": {},
   "source": [
    "**AND**"
   ]
  },
  {
   "cell_type": "code",
   "execution_count": 22,
   "metadata": {},
   "outputs": [
    {
     "data": {
      "text/plain": [
       "2"
      ]
     },
     "execution_count": 22,
     "metadata": {},
     "output_type": "execute_result"
    }
   ],
   "source": [
    "3 & 2"
   ]
  },
  {
   "cell_type": "markdown",
   "metadata": {},
   "source": [
    "   3: 011   \n",
    "\n",
    "   2: 010\n",
    "   \n",
    "&ensp; <b> ---- </b>\n",
    "    \n",
    "   2: 010   &ensp; Answer"
   ]
  },
  {
   "cell_type": "markdown",
   "metadata": {},
   "source": [
    "**OR**"
   ]
  },
  {
   "cell_type": "code",
   "execution_count": 23,
   "metadata": {},
   "outputs": [
    {
     "data": {
      "text/plain": [
       "3"
      ]
     },
     "execution_count": 23,
     "metadata": {},
     "output_type": "execute_result"
    }
   ],
   "source": [
    "3 | 2"
   ]
  },
  {
   "cell_type": "markdown",
   "metadata": {},
   "source": [
    " 3: 011   \n",
    "\n",
    " 2: 010\n",
    "   \n",
    "&ensp; <b> ---- </b>\n",
    "    \n",
    " 3: 011   &ensp; Answer"
   ]
  },
  {
   "cell_type": "markdown",
   "metadata": {},
   "source": [
    "**NOT**"
   ]
  },
  {
   "cell_type": "code",
   "execution_count": 26,
   "metadata": {},
   "outputs": [
    {
     "data": {
      "text/plain": [
       "-8"
      ]
     },
     "execution_count": 26,
     "metadata": {},
     "output_type": "execute_result"
    }
   ],
   "source": [
    "~7"
   ]
  },
  {
   "cell_type": "markdown",
   "metadata": {},
   "source": [
    "This is the 1's  compliement of the original value and in Python, it is equal to \n",
    "\n",
    "-(A + 1)\n",
    "\n",
    "where A represents the original value"
   ]
  },
  {
   "cell_type": "markdown",
   "metadata": {},
   "source": [
    "**XOR**"
   ]
  },
  {
   "cell_type": "code",
   "execution_count": 27,
   "metadata": {},
   "outputs": [
    {
     "data": {
      "text/plain": [
       "1"
      ]
     },
     "execution_count": 27,
     "metadata": {},
     "output_type": "execute_result"
    }
   ],
   "source": [
    "3 ^ 2"
   ]
  },
  {
   "cell_type": "markdown",
   "metadata": {},
   "source": [
    "\n",
    "This is TRUE only when the binary digits are in different states i.e. 1 ^ 0 gives 1; &ensp; 0 ^ 1 gives 1; &ensp;1 ^ 1 gives 0;  &ensp; 0 ^ 0 gives 0\n",
    "   \n",
    "   3: 011   \n",
    "\n",
    "   2: 010\n",
    "   \n",
    "&ensp; <b> ---- </b>\n",
    "    \n",
    "   1: 001  &ensp; Answer "
   ]
  },
  {
   "cell_type": "markdown",
   "metadata": {},
   "source": [
    "**Shift**"
   ]
  },
  {
   "cell_type": "code",
   "execution_count": 28,
   "metadata": {},
   "outputs": [
    {
     "data": {
      "text/plain": [
       "1"
      ]
     },
     "execution_count": 28,
     "metadata": {},
     "output_type": "execute_result"
    }
   ],
   "source": [
    "3 >> 1"
   ]
  },
  {
   "cell_type": "code",
   "execution_count": 29,
   "metadata": {},
   "outputs": [
    {
     "data": {
      "text/plain": [
       "6"
      ]
     },
     "execution_count": 29,
     "metadata": {},
     "output_type": "execute_result"
    }
   ],
   "source": [
    "3 << 1"
   ]
  },
  {
   "cell_type": "code",
   "execution_count": 30,
   "metadata": {},
   "outputs": [
    {
     "data": {
      "text/plain": [
       "0"
      ]
     },
     "execution_count": 30,
     "metadata": {},
     "output_type": "execute_result"
    }
   ],
   "source": [
    "3>>2"
   ]
  },
  {
   "cell_type": "markdown",
   "metadata": {},
   "source": [
    "This shifts the bit by number of places specified on the right side of the shift ( >> or << ) symbol by adding zeros (Os) either from the left or right\n",
    "\n",
    "<img src= './Images/shift.jpg', width= 600, height = 300>"
   ]
  },
  {
   "cell_type": "markdown",
   "metadata": {},
   "source": [
    "## What if we have no idea of the exact numbers to  be added, subtracted, multiplied or divided?\n"
   ]
  },
  {
   "cell_type": "markdown",
   "metadata": {},
   "source": [
    "## What if we need computer to remember the last number we supplied?\n",
    "\n",
    "Then, we need boxes (memory locations) to recieve our unknown numbers, and at execution time, fetch the numbers to perform the required arithmetic task. The name given to the memory location is called **Variable**\n",
    "\n",
    "<table>\n",
    "<tr>\n",
    "<td><img src='./Images/var.jpg' width= 400, height = 200></td><td><img src='./Images/box.jpg' width= 400, height = 200></td> <td><img src='./Images/box2.jpg' width= 400, height = 200></td>\n",
    "</tr>\n",
    "<tr>\n",
    "    <td></td>\n",
    "    <td> <center> X <br> Y </td> \n",
    "    <td> <center> X = 42 <br> Y = 78 </td>\n",
    "</tr>   \n",
    "</table>"
   ]
  },
  {
   "cell_type": "code",
   "execution_count": 31,
   "metadata": {},
   "outputs": [
    {
     "name": "stdout",
     "output_type": "stream",
     "text": [
      "42\n"
     ]
    }
   ],
   "source": [
    "i = 42\n",
    "print(i)"
   ]
  },
  {
   "cell_type": "code",
   "execution_count": 32,
   "metadata": {},
   "outputs": [
    {
     "name": "stdout",
     "output_type": "stream",
     "text": [
      "50\n"
     ]
    }
   ],
   "source": [
    "A = 50\n",
    "print (A)"
   ]
  },
  {
   "cell_type": "markdown",
   "metadata": {},
   "source": [
    "To know the location (in the computer memory) pointed to by each variable, an **id** function can be used"
   ]
  },
  {
   "cell_type": "code",
   "execution_count": 33,
   "metadata": {},
   "outputs": [
    {
     "name": "stdout",
     "output_type": "stream",
     "text": [
      "1774154496\n",
      "1774154752\n"
     ]
    }
   ],
   "source": [
    "print(id(i))\n",
    "print(id(A))"
   ]
  },
  {
   "cell_type": "markdown",
   "metadata": {},
   "source": [
    "_NOTE: The memory location named **i** is dynamic and could be made to store something differnt from 42, say 100_"
   ]
  },
  {
   "cell_type": "code",
   "execution_count": 34,
   "metadata": {},
   "outputs": [
    {
     "name": "stdout",
     "output_type": "stream",
     "text": [
      "100\n"
     ]
    }
   ],
   "source": [
    "i = 100\n",
    "print(i)"
   ]
  },
  {
   "cell_type": "code",
   "execution_count": 35,
   "metadata": {},
   "outputs": [
    {
     "name": "stdout",
     "output_type": "stream",
     "text": [
      "1774156352\n"
     ]
    }
   ],
   "source": [
    "print(id(i))"
   ]
  },
  {
   "cell_type": "code",
   "execution_count": 36,
   "metadata": {},
   "outputs": [
    {
     "name": "stdout",
     "output_type": "stream",
     "text": [
      "50\n"
     ]
    }
   ],
   "source": [
    "i = A\n",
    "\n",
    "print(i)"
   ]
  },
  {
   "cell_type": "markdown",
   "metadata": {},
   "source": [
    "**_Therefore,_**\n",
    "\n",
    "> A **variable** is an identifier that reference a memory location whose value can be changed during the execution of a program"
   ]
  },
  {
   "cell_type": "code",
   "execution_count": 37,
   "metadata": {},
   "outputs": [
    {
     "name": "stdout",
     "output_type": "stream",
     "text": [
      "1774154752\n",
      "1774154752\n"
     ]
    }
   ],
   "source": [
    "print(id(i))\n",
    "print(id(A))"
   ]
  },
  {
   "cell_type": "markdown",
   "metadata": {},
   "source": [
    "###### NOTE: There the rules for naming valid variables"
   ]
  },
  {
   "cell_type": "markdown",
   "metadata": {},
   "source": [
    "# PYTHON DATA TYPES"
   ]
  },
  {
   "cell_type": "markdown",
   "metadata": {},
   "source": [
    "The basic data types in Python are:\n",
    "* Integers\n",
    "* Floating-Point Numbers\n",
    "* Complex Numbers\n",
    "* Strings\n",
    "* Boolean Type\n",
    "\n",
    ">Data Type Conversion can be done easily with python\n"
   ]
  },
  {
   "cell_type": "markdown",
   "metadata": {},
   "source": [
    "**Integer**"
   ]
  },
  {
   "cell_type": "code",
   "execution_count": 38,
   "metadata": {},
   "outputs": [
    {
     "name": "stdout",
     "output_type": "stream",
     "text": [
      "10 1000 3000\n",
      "50\n"
     ]
    }
   ],
   "source": [
    "print(10, 1000, 3000)\n",
    "print (A)"
   ]
  },
  {
   "cell_type": "markdown",
   "metadata": {},
   "source": [
    "**Floating Point**"
   ]
  },
  {
   "cell_type": "code",
   "execution_count": 39,
   "metadata": {},
   "outputs": [
    {
     "name": "stdout",
     "output_type": "stream",
     "text": [
      "16.666666666666668\n",
      "0.0042\n",
      "4000000.0\n"
     ]
    }
   ],
   "source": [
    "B = A/3\n",
    "print(B)\n",
    "\n",
    "print(4.2e-3)\n",
    "print(.4e7)"
   ]
  },
  {
   "cell_type": "markdown",
   "metadata": {},
   "source": [
    "**Complex Number**"
   ]
  },
  {
   "cell_type": "code",
   "execution_count": 40,
   "metadata": {},
   "outputs": [
    {
     "name": "stdout",
     "output_type": "stream",
     "text": [
      "(4+13j)\n"
     ]
    }
   ],
   "source": [
    "C1= 3+5j\n",
    "C2 = 1+8j\n",
    "C = C1 +C2\n",
    "print(C)"
   ]
  },
  {
   "cell_type": "markdown",
   "metadata": {},
   "source": [
    "**String**\n",
    "A string is defined as sequence of character enlosed in a quote. "
   ]
  },
  {
   "cell_type": "code",
   "execution_count": 41,
   "metadata": {},
   "outputs": [
    {
     "name": "stdout",
     "output_type": "stream",
     "text": [
      "Hello World\n"
     ]
    }
   ],
   "source": [
    "D= 'Hello World'\n",
    "s= \"This is also a string\"\n",
    "print(D)"
   ]
  },
  {
   "cell_type": "markdown",
   "metadata": {},
   "source": [
    "_Note: If a string itself contains a quote, for instance, '**I'm a boy**', delimit the string with a diffrerent quote_"
   ]
  },
  {
   "cell_type": "code",
   "execution_count": 42,
   "metadata": {},
   "outputs": [
    {
     "name": "stdout",
     "output_type": "stream",
     "text": [
      "It sound\"s great!\n",
      "This is also a string\n"
     ]
    }
   ],
   "source": [
    "S = 'It sound\"s great!'\n",
    "print (S)\n",
    "print(s)"
   ]
  },
  {
   "cell_type": "markdown",
   "metadata": {},
   "source": [
    "**Triple-Quoted String**"
   ]
  },
  {
   "cell_type": "code",
   "execution_count": 43,
   "metadata": {},
   "outputs": [
    {
     "name": "stdout",
     "output_type": "stream",
     "text": [
      "This is a\n",
      "string that spans\n",
      "across several lines\n",
      "It is called, Triple-Quoted String\n"
     ]
    }
   ],
   "source": [
    "MS = \"\"\"This is a\n",
    "string that spans\n",
    "across several lines\n",
    "It is called, Triple-Quoted String\"\"\"\n",
    "\n",
    "print(MS)"
   ]
  },
  {
   "cell_type": "markdown",
   "metadata": {},
   "source": [
    "<b>String Escape Sequences</b>\n",
    "These combine different characters with backslash(\\) to perform some task. The most commenly used ones are : \n",
    "\n",
    "* \\n: New line\n",
    "* \\\\: Backslash (\\)\n",
    "* \\': Single quote (')\n",
    "* \\\": Double quote (\")\n",
    "* \\r: Carriage Return (CR)\n",
    "* \\t: Horizontal Tab (TAB)\n"
   ]
  },
  {
   "cell_type": "code",
   "execution_count": 44,
   "metadata": {},
   "outputs": [
    {
     "name": "stdout",
     "output_type": "stream",
     "text": [
      "This is a \n",
      " string that spans \n",
      " across several lines \n",
      " using NEW LINE escape sequence\n",
      "I need this string\\ to reflect a backslash\n",
      "This is a string' with a single quote\n",
      "This is a string\" with a double quote\n",
      "This is a string\t with horizontal tab\n"
     ]
    }
   ],
   "source": [
    "s1 = \"This is a \\n string that spans \\n across several lines \\n using NEW LINE escape sequence\"\n",
    "s2 = \"I need this string\\\\ to reflect a backslash\"\n",
    "s3 = 'This is a string\\' with a single quote'\n",
    "s4 = 'This is a string\\\" with a double quote'\n",
    "s5 = 'This is a string\\t with horizontal tab'\n",
    "\n",
    "print (s1)\n",
    "print (s2)\n",
    "print (s3)\n",
    "print (s4)\n",
    "print(s5)"
   ]
  },
  {
   "cell_type": "markdown",
   "metadata": {},
   "source": [
    "<b>String Indexing</b>\n",
    "\n",
    "Since Strings are array of characters, string elements (characters) are accessible with the use of indices. \n",
    "\n",
    "The first element of a string has index 0\n",
    "<img src='./Images/string.jpg' width= 400, height = 200>\n",
    "\n",
    "<b>String Slicing</b>\n",
    "\n",
    "Accessing characters of a string through indexing"
   ]
  },
  {
   "cell_type": "markdown",
   "metadata": {},
   "source": [
    "> NOTE: Indexing starts at 0, Therefore, upperbound is always excluded"
   ]
  },
  {
   "cell_type": "code",
   "execution_count": 45,
   "metadata": {},
   "outputs": [
    {
     "name": "stdout",
     "output_type": "stream",
     "text": [
      "H d\n",
      "World\n"
     ]
    }
   ],
   "source": [
    "print(D[0], D[-1])\n",
    "\n",
    "p = D[6:11]\n",
    "print(p)"
   ]
  },
  {
   "cell_type": "markdown",
   "metadata": {},
   "source": [
    "**String Concatenation**\n",
    "\n",
    "This is the process of joining two (2) or more strings together"
   ]
  },
  {
   "cell_type": "code",
   "execution_count": 46,
   "metadata": {},
   "outputs": [
    {
     "name": "stdout",
     "output_type": "stream",
     "text": [
      "Hello WorldWorld\n"
     ]
    }
   ],
   "source": [
    "S_Concat = D + p\n",
    "print (S_Concat)"
   ]
  },
  {
   "cell_type": "code",
   "execution_count": 47,
   "metadata": {},
   "outputs": [
    {
     "data": {
      "text/plain": [
       "11"
      ]
     },
     "execution_count": 47,
     "metadata": {},
     "output_type": "execute_result"
    }
   ],
   "source": [
    "len(D)"
   ]
  },
  {
   "cell_type": "markdown",
   "metadata": {},
   "source": [
    "**String Methods**\n",
    "Python has a set of built-in methods that you can use on strings. These methods return new values without changing the original string.\n",
    "\n",
    "| Method | Description\n",
    "| --- | --- | \n",
    "|capitalize()\t|Converts the first character to upper case\n",
    "|casefold()\t| Converts string into lower case\n",
    "|center()\t| Returns a centered string\n",
    "|count()\t| Returns the number of times a specified value occurs in a string\n",
    "|encode()\t| Returns an encoded version of the string\n",
    "|endswith()\t| Returns true if the string ends with the specified value\n",
    "|expandtabs()\t| Sets the tab size of the string\n",
    "|find()\t| Searches the string for a specified value and returns the position of where it was found\n",
    "|format()\t| Formats specified values in a string\n",
    "|format_map()\t| Formats specified values in a string\n",
    "|index()\t| Searches the string for a specified value and returns the position of where it was found\n",
    "|isalnum()\t| Returns True if all characters in the string are alphanumeric\n",
    "|isalpha()\t| Returns True if all characters in the string are in the alphabet\n",
    "|isdecimal()\t| Returns True if all characters in the string are decimals\n",
    "|isdigit()\t| Returns True if all characters in the string are digits\n",
    "|isidentifier()\t| Returns True if the string is an identifier\n",
    "|islower()\t| Returns True if all characters in the string are lower case\n",
    "|isnumeric()\t| Returns True if all characters in the string are numeric\n",
    "|isprintable()\t| Returns True if all characters in the string are printable\n",
    "|isspace()\t| Returns True if all characters in the string are whitespaces\n",
    "|istitle()\t| Returns True if the string follows the rules of a title\n",
    "|isupper()\t| Returns True if all characters in the string are upper case\n",
    "|join()\t | Joins the elements of an iterable to the end of the string\n",
    "|ljust()\t| Returns a left justified version of the string\n",
    "|lower()\t| Converts a string into lower case\n",
    "|lstrip()\t| Returns a left trim version of the string\n",
    "|maketrans()\t| Returns a translation table to be used in translations\n",
    "|partition()\t| Returns a tuple where the string is parted into three parts\n",
    "|replace()\t| Returns a string where a specified value is replaced with a specified value\n",
    "|rfind()\t| Searches the string for a specified value and returns the last position of where it was found\n",
    "|rindex()\t| Searches the string for a specified value and returns the last position of where it was found\n",
    "|rjust()\t| Returns a right justified version of the string\n",
    "|rpartition()\t| Returns a tuple where the string is parted into three parts\n",
    "|rsplit()\t| Splits the string at the specified separator, and returns a list\n",
    "|rstrip()\t| Returns a right trim version of the string\n",
    "|split()\t| Splits the string at the specified separator, and returns a list\n",
    "|splitlines()\t| Splits the string at line breaks and returns a list\n",
    "|startswith()\t| Returns true if the string starts with the specified value\n",
    "|strip()\t| Returns a trimmed version of the string\n",
    "|swapcase()\t| Swaps cases, lower case becomes upper case and vice versa\n",
    "|title()\t| Converts the first character of each word to upper case\n",
    "|translate()\t| Returns a translated string\n",
    "|upper()\t| Converts a string into upper case\n",
    "|zfill()\t| Fills the string with a specified number of 0 values at the beginning   "
   ]
  },
  {
   "cell_type": "markdown",
   "metadata": {},
   "source": [
    "# Assignment 1\n",
    "\n",
    "With at least 2 examples in each case, implement 10 string methods  "
   ]
  },
  {
   "cell_type": "markdown",
   "metadata": {},
   "source": [
    "**Boolean**"
   ]
  },
  {
   "cell_type": "code",
   "execution_count": 48,
   "metadata": {},
   "outputs": [
    {
     "name": "stdout",
     "output_type": "stream",
     "text": [
      "True\n",
      "False\n"
     ]
    }
   ],
   "source": [
    "t = True\n",
    "f = False\n",
    "print(t)\n",
    "print (f)"
   ]
  },
  {
   "cell_type": "code",
   "execution_count": 49,
   "metadata": {},
   "outputs": [
    {
     "name": "stdout",
     "output_type": "stream",
     "text": [
      "False\n"
     ]
    }
   ],
   "source": [
    "a= 'DSN'\n",
    "b = 'Nigeria'\n",
    "c= a == b\n",
    "print(c)"
   ]
  },
  {
   "cell_type": "markdown",
   "metadata": {},
   "source": [
    ">To determine the data type of an object, we can use\n",
    "\n",
    ">**type(_objectname_)**"
   ]
  },
  {
   "cell_type": "code",
   "execution_count": 50,
   "metadata": {},
   "outputs": [
    {
     "name": "stdout",
     "output_type": "stream",
     "text": [
      "<class 'int'>\n",
      "<class 'float'>\n",
      "<class 'str'>\n",
      "<class 'str'>\n",
      "<class 'str'>\n",
      "<class 'bool'>\n"
     ]
    }
   ],
   "source": [
    "print(type(A))\n",
    "print(type(B))\n",
    "print(type(MS))\n",
    "print(type(a))\n",
    "print(type(b))\n",
    "print(type(c))"
   ]
  },
  {
   "cell_type": "markdown",
   "metadata": {},
   "source": [
    "# INPUT STATEMENT IN PYTHON\n",
    "\n",
    "**input():** This is an instruction used to accept users response /input for processing"
   ]
  },
  {
   "cell_type": "code",
   "execution_count": 51,
   "metadata": {},
   "outputs": [
    {
     "name": "stdout",
     "output_type": "stream",
     "text": [
      "\n"
     ]
    },
    {
     "data": {
      "text/plain": [
       "''"
      ]
     },
     "execution_count": 51,
     "metadata": {},
     "output_type": "execute_result"
    }
   ],
   "source": [
    "input()"
   ]
  },
  {
   "cell_type": "markdown",
   "metadata": {},
   "source": [
    "<img src='./Images/input.jpg' width= 1000, height = 1000>\n",
    "\n",
    "input supplied at the above prompt will be displayed immeddiately a **return** key is pressed\n",
    "\n",
    "\n",
    ">**NOTE:** Users' input can also be stored in a memeory location reference by a variable name. For instance, \n",
    "\n",
    ">Age = input()"
   ]
  },
  {
   "cell_type": "code",
   "execution_count": 52,
   "metadata": {},
   "outputs": [
    {
     "name": "stdout",
     "output_type": "stream",
     "text": [
      "\n"
     ]
    }
   ],
   "source": [
    "Age = input()"
   ]
  },
  {
   "cell_type": "markdown",
   "metadata": {},
   "source": [
    "Input supplied at the above prompt will be displayed as output only when the memeory location is accessed through the variable name. For example,\n",
    "\n",
    ">print(Age)   \n",
    "\n",
    "or\n",
    "\n",
    ">Age "
   ]
  },
  {
   "cell_type": "code",
   "execution_count": 53,
   "metadata": {},
   "outputs": [
    {
     "data": {
      "text/plain": [
       "''"
      ]
     },
     "execution_count": 53,
     "metadata": {},
     "output_type": "execute_result"
    }
   ],
   "source": [
    "Age"
   ]
  },
  {
   "cell_type": "markdown",
   "metadata": {},
   "source": [
    "To make the process more interactive at the blinking prompt, a string indicating the expected response from the user could be added to the input statement"
   ]
  },
  {
   "cell_type": "code",
   "execution_count": 54,
   "metadata": {},
   "outputs": [
    {
     "name": "stdout",
     "output_type": "stream",
     "text": [
      "Welcome User, How old are you?23\n"
     ]
    }
   ],
   "source": [
    "Age = input('Welcome User, How old are you?')"
   ]
  },
  {
   "cell_type": "code",
   "execution_count": 55,
   "metadata": {},
   "outputs": [
    {
     "data": {
      "text/plain": [
       "'23'"
      ]
     },
     "execution_count": 55,
     "metadata": {},
     "output_type": "execute_result"
    }
   ],
   "source": [
    "Age"
   ]
  },
  {
   "cell_type": "markdown",
   "metadata": {},
   "source": [
    "# SOLUTION TO ASSIGNMENT I"
   ]
  },
  {
   "cell_type": "code",
   "execution_count": 56,
   "metadata": {},
   "outputs": [],
   "source": [
    "string1 = 'This Is The First String'\n",
    "string2 = 'This Is The Second String'"
   ]
  },
  {
   "cell_type": "code",
   "execution_count": 57,
   "metadata": {},
   "outputs": [
    {
     "data": {
      "text/plain": [
       "'000000This Is The First String'"
      ]
     },
     "execution_count": 57,
     "metadata": {},
     "output_type": "execute_result"
    }
   ],
   "source": [
    "#Fills the string with a specified number of 0 values at the beginning to make up a desired length\n",
    "string1.zfill(30)"
   ]
  },
  {
   "cell_type": "code",
   "execution_count": 58,
   "metadata": {},
   "outputs": [
    {
     "data": {
      "text/plain": [
       "'this is the first string'"
      ]
     },
     "execution_count": 58,
     "metadata": {},
     "output_type": "execute_result"
    }
   ],
   "source": [
    "#Convert string into lower case\n",
    "string1.casefold()\n",
    "\n",
    "string1.lower()"
   ]
  },
  {
   "cell_type": "code",
   "execution_count": 59,
   "metadata": {},
   "outputs": [
    {
     "data": {
      "text/plain": [
       "'THIS IS THE FIRST STRING'"
      ]
     },
     "execution_count": 59,
     "metadata": {},
     "output_type": "execute_result"
    }
   ],
   "source": [
    "#Convert string into upper case\n",
    "\n",
    "string1.upper()"
   ]
  },
  {
   "cell_type": "code",
   "execution_count": 60,
   "metadata": {},
   "outputs": [
    {
     "data": {
      "text/plain": [
       "'This is the first string'"
      ]
     },
     "execution_count": 60,
     "metadata": {},
     "output_type": "execute_result"
    }
   ],
   "source": [
    "#Convert first character of the string into upper case\n",
    "\n",
    "string1.capitalize()"
   ]
  },
  {
   "cell_type": "code",
   "execution_count": 61,
   "metadata": {},
   "outputs": [
    {
     "data": {
      "text/plain": [
       "False"
      ]
     },
     "execution_count": 61,
     "metadata": {},
     "output_type": "execute_result"
    }
   ],
   "source": [
    "#Returns true or false, if strings ends with the specified substring within the specified range\n",
    "\n",
    "string2.endswith('String')\n",
    "#Returns True\n",
    "\n",
    "\n",
    "\n",
    "string1.endswith('Is', 5, 7)\n",
    "# Returns True\n",
    "\n",
    "string2.endswith('Second', 12, 20)\n",
    "# returns False"
   ]
  },
  {
   "cell_type": "code",
   "execution_count": 62,
   "metadata": {},
   "outputs": [
    {
     "data": {
      "text/plain": [
       "3"
      ]
     },
     "execution_count": 62,
     "metadata": {},
     "output_type": "execute_result"
    }
   ],
   "source": [
    "#Searches the string for a specified value and returns the position of where it was found\n",
    "#If not found, .find returns -1 while .index retuns error\n",
    "string2.find('s')\n",
    "string2.index('s')"
   ]
  },
  {
   "cell_type": "code",
   "execution_count": 63,
   "metadata": {},
   "outputs": [
    {
     "data": {
      "text/plain": [
       "-1"
      ]
     },
     "execution_count": 63,
     "metadata": {},
     "output_type": "execute_result"
    }
   ],
   "source": [
    "string2.find('y', 0, 3)"
   ]
  },
  {
   "cell_type": "code",
   "execution_count": 64,
   "metadata": {},
   "outputs": [
    {
     "ename": "ValueError",
     "evalue": "substring not found",
     "output_type": "error",
     "traceback": [
      "\u001b[1;31m---------------------------------------------------------------------------\u001b[0m",
      "\u001b[1;31mValueError\u001b[0m                                Traceback (most recent call last)",
      "\u001b[1;32m<ipython-input-64-c6fed33b87de>\u001b[0m in \u001b[0;36m<module>\u001b[1;34m()\u001b[0m\n\u001b[1;32m----> 1\u001b[1;33m \u001b[0mstring2\u001b[0m\u001b[1;33m.\u001b[0m\u001b[0mindex\u001b[0m\u001b[1;33m(\u001b[0m\u001b[1;34m'y'\u001b[0m\u001b[1;33m,\u001b[0m \u001b[1;36m0\u001b[0m\u001b[1;33m,\u001b[0m \u001b[1;36m3\u001b[0m\u001b[1;33m)\u001b[0m\u001b[1;33m\u001b[0m\u001b[0m\n\u001b[0m",
      "\u001b[1;31mValueError\u001b[0m: substring not found"
     ]
    }
   ],
   "source": [
    "string2.index('y', 0, 3)"
   ]
  },
  {
   "cell_type": "code",
   "execution_count": 65,
   "metadata": {},
   "outputs": [
    {
     "data": {
      "text/plain": [
       "'TThis Is The First StringhThis Is The First StringiThis Is The First StringsThis Is The First String This Is The First StringIThis Is The First StringsThis Is The First String This Is The First StringTThis Is The First StringhThis Is The First StringeThis Is The First String This Is The First StringSThis Is The First StringeThis Is The First StringcThis Is The First StringoThis Is The First StringnThis Is The First StringdThis Is The First String This Is The First StringSThis Is The First StringtThis Is The First StringrThis Is The First StringiThis Is The First StringnThis Is The First Stringg'"
      ]
     },
     "execution_count": 65,
     "metadata": {},
     "output_type": "execute_result"
    }
   ],
   "source": [
    "#Joins the first string iteratively to each elements of an iterable (second string) to the end of the string\n",
    "string1.join(string2)"
   ]
  },
  {
   "cell_type": "code",
   "execution_count": 66,
   "metadata": {},
   "outputs": [
    {
     "data": {
      "text/plain": [
       "0"
      ]
     },
     "execution_count": 66,
     "metadata": {},
     "output_type": "execute_result"
    }
   ],
   "source": [
    "#Count the occourence of a specified character in a string\n",
    "string1.count('o')"
   ]
  },
  {
   "cell_type": "code",
   "execution_count": 67,
   "metadata": {},
   "outputs": [
    {
     "data": {
      "text/plain": [
       "('This Is The First Str', 'i', 'ng')"
      ]
     },
     "execution_count": 67,
     "metadata": {},
     "output_type": "execute_result"
    }
   ],
   "source": [
    "#Returns a tuple where the string is parted into three parts at the specified right-most character\n",
    "string1.rpartition('i')"
   ]
  },
  {
   "cell_type": "code",
   "execution_count": 68,
   "metadata": {},
   "outputs": [
    {
     "data": {
      "text/plain": [
       "('Th', 'i', 's Is The First String')"
      ]
     },
     "execution_count": 68,
     "metadata": {},
     "output_type": "execute_result"
    }
   ],
   "source": [
    "#Returns a tuple where the string is parted into three parts\n",
    "string1.partition('i')"
   ]
  },
  {
   "cell_type": "code",
   "execution_count": 69,
   "metadata": {},
   "outputs": [
    {
     "data": {
      "text/plain": [
       "'This Is The Second String'"
      ]
     },
     "execution_count": 69,
     "metadata": {},
     "output_type": "execute_result"
    }
   ],
   "source": [
    "#Returns a trim version of the string by default, whitespaces unless a character is specified\n",
    "string2.strip() "
   ]
  }
 ],
 "metadata": {
  "kernelspec": {
   "display_name": "Python 3",
   "language": "python",
   "name": "python3"
  },
  "language_info": {
   "codemirror_mode": {
    "name": "ipython",
    "version": 3
   },
   "file_extension": ".py",
   "mimetype": "text/x-python",
   "name": "python",
   "nbconvert_exporter": "python",
   "pygments_lexer": "ipython3",
   "version": "3.6.4"
  }
 },
 "nbformat": 4,
 "nbformat_minor": 2
}
