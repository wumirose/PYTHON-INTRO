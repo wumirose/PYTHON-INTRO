{
  "nbformat": 4,
  "nbformat_minor": 0,
  "metadata": {
    "kernelspec": {
      "display_name": "Python 3",
      "language": "python",
      "name": "python3"
    },
    "language_info": {
      "codemirror_mode": {
        "name": "ipython",
        "version": 3
      },
      "file_extension": ".py",
      "mimetype": "text/x-python",
      "name": "python",
      "nbconvert_exporter": "python",
      "pygments_lexer": "ipython3",
      "version": "3.6.5"
    },
    "colab": {
      "name": "SAP First class.ipynb",
      "provenance": [],
      "collapsed_sections": []
    }
  },
  "cells": [
    {
      "cell_type": "markdown",
      "metadata": {
        "id": "kbHe81mtxUZ4",
        "colab_type": "text"
      },
      "source": [
        "# This is our first class in python programming for Data Science\n",
        "\n",
        "Aim of the training and Deliverables\n",
        "Anaconda Environment Setup and Installation\n",
        "\n",
        "- ### Variables\n",
        "- ### Data Types\n",
        "- ### Commenting in Pyton\n",
        "- ### Operators and mathematical operations\n",
        "- ### Input and output\n",
        "## Program Flow Control \n",
        "- ### If, elif and else statements\n",
        "- ### For loops\n",
        "- ### While loops"
      ]
    },
    {
      "cell_type": "markdown",
      "metadata": {
        "id": "8deT6QXN6lUs",
        "colab_type": "text"
      },
      "source": [
        "### Variables \n",
        "#### What are variables?\n",
        "A variable is a named location used to store data in the memory\n",
        "### Assigning value to Variables\n"
      ]
    },
    {
      "cell_type": "code",
      "metadata": {
        "id": "vcdUvVSEoNVl",
        "colab_type": "code",
        "colab": {}
      },
      "source": [
        "a, b, c = 5, 3.2, \"Hello\""
      ],
      "execution_count": 0,
      "outputs": []
    },
    {
      "cell_type": "markdown",
      "metadata": {
        "id": "5noPF3OAPKbU",
        "colab_type": "text"
      },
      "source": [
        "# Section 1: Data Types\n",
        "\n",
        "Common Data types\n",
        "- Floating point data\n",
        "- Integers\n",
        "- Complex\n",
        "- String\n",
        "- Boolean"
      ]
    },
    {
      "cell_type": "code",
      "metadata": {
        "id": "2-UQfsqCxUaG",
        "colab_type": "code",
        "outputId": "59cbae15-7e3e-4110-afaa-16ca2295bf70",
        "colab": {}
      },
      "source": [
        "# Float\n",
        "\n",
        "a = 2.052       \n",
        "type(a)\n",
        "\n",
        "\n"
      ],
      "execution_count": 0,
      "outputs": [
        {
          "output_type": "execute_result",
          "data": {
            "text/plain": [
              "float"
            ]
          },
          "metadata": {
            "tags": []
          },
          "execution_count": 10
        }
      ]
    },
    {
      "cell_type": "code",
      "metadata": {
        "id": "9JUzp89wxUad",
        "colab_type": "code",
        "outputId": "ab4bdfd2-efab-4643-ca7c-45d45986514b",
        "colab": {}
      },
      "source": [
        "#String\n",
        "b = 'The Hello World!'\n",
        "type(b)\n",
        "\n",
        "S = 'It sound\"s great!'"
      ],
      "execution_count": 0,
      "outputs": [
        {
          "output_type": "execute_result",
          "data": {
            "text/plain": [
              "str"
            ]
          },
          "metadata": {
            "tags": []
          },
          "execution_count": 11
        }
      ]
    },
    {
      "cell_type": "code",
      "metadata": {
        "id": "0wUDt-TixUak",
        "colab_type": "code",
        "outputId": "524df1b1-555d-4123-ad6f-09d9594d7227",
        "colab": {}
      },
      "source": [
        "#Integer\n",
        "c = 65\n",
        "type(c)"
      ],
      "execution_count": 0,
      "outputs": [
        {
          "output_type": "execute_result",
          "data": {
            "text/plain": [
              "int"
            ]
          },
          "metadata": {
            "tags": []
          },
          "execution_count": 12
        }
      ]
    },
    {
      "cell_type": "code",
      "metadata": {
        "id": "wq4XoJnWxUas",
        "colab_type": "code",
        "outputId": "9c0d736d-b6b1-4b56-81ca-c5a0b685a47c",
        "colab": {}
      },
      "source": [
        "#Boolean\n",
        "d = True\n",
        "type(d)"
      ],
      "execution_count": 0,
      "outputs": [
        {
          "output_type": "execute_result",
          "data": {
            "text/plain": [
              "bool"
            ]
          },
          "metadata": {
            "tags": []
          },
          "execution_count": 2
        }
      ]
    },
    {
      "cell_type": "code",
      "metadata": {
        "id": "d5a_g9C5SRlb",
        "colab_type": "code",
        "outputId": "03999e1f-ad2a-4142-fcaa-316a7276e332",
        "colab": {
          "base_uri": "https://localhost:8080/",
          "height": 34
        }
      },
      "source": [
        "c = 5 + 3j\n",
        "(type(c))"
      ],
      "execution_count": 0,
      "outputs": [
        {
          "output_type": "execute_result",
          "data": {
            "text/plain": [
              "complex"
            ]
          },
          "metadata": {
            "tags": []
          },
          "execution_count": 4
        }
      ]
    },
    {
      "cell_type": "markdown",
      "metadata": {
        "id": "-8yEdmqSROzZ",
        "colab_type": "text"
      },
      "source": [
        "Comments in Python\n",
        "- Single line\n",
        "- Multiple line"
      ]
    },
    {
      "cell_type": "code",
      "metadata": {
        "id": "DiJaoX13xUa8",
        "colab_type": "code",
        "outputId": "946f5b4e-8798-4774-8a76-08b4ae8105db",
        "colab": {
          "base_uri": "https://localhost:8080/",
          "height": 34
        }
      },
      "source": [
        "# This is good\n",
        "\n",
        "'This is a single line comment'\n",
        "\n",
        "''' \n",
        "This is still a comment,\n",
        "and still going, \n",
        "still going,\n",
        "still going,\n",
        "...\n",
        "'''\n",
        "\n",
        "\"\"\"\n",
        "This is also a comment\n",
        "And it's multi - line\n",
        "\"\"\""
      ],
      "execution_count": 0,
      "outputs": [
        {
          "output_type": "execute_result",
          "data": {
            "text/plain": [
              "\"\\nThis is also a comment\\nAnd it's multi - line\\n\""
            ]
          },
          "metadata": {
            "tags": []
          },
          "execution_count": 8
        }
      ]
    },
    {
      "cell_type": "markdown",
      "metadata": {
        "id": "7cqPIi72xUaz",
        "colab_type": "text"
      },
      "source": [
        "### Section 2: Common mathematical operators and operations\n",
        "- Addition,\n",
        "- Subtraction,\n",
        "- Multiplication,\n",
        "- Division,\n",
        "- Modulus,\n",
        "- Index/Exponent,\n",
        "- Parentheses"
      ]
    },
    {
      "cell_type": "code",
      "metadata": {
        "id": "xX2_BsI5xUa0",
        "colab_type": "code",
        "outputId": "2c15d5e3-ffe2-4a37-96d3-151209dfeb58",
        "colab": {
          "base_uri": "https://localhost:8080/",
          "height": 34
        }
      },
      "source": [
        "52 + 45, 34 - 65, 65/5, 9//2, 2 * 45, 5%2, (5 + 3j)*3, "
      ],
      "execution_count": 0,
      "outputs": [
        {
          "output_type": "execute_result",
          "data": {
            "text/plain": [
              "(97, -31, 13.0, 4, 90, 1, (15+9j))"
            ]
          },
          "metadata": {
            "tags": []
          },
          "execution_count": 6
        }
      ]
    },
    {
      "cell_type": "code",
      "metadata": {
        "id": "7hoSjnwvTO15",
        "colab_type": "code",
        "outputId": "819c9454-b004-472c-c17f-c9d7897eb070",
        "colab": {
          "base_uri": "https://localhost:8080/",
          "height": 34
        }
      },
      "source": [
        "1 + 4.2e-3, 5 * .4e7"
      ],
      "execution_count": 0,
      "outputs": [
        {
          "output_type": "execute_result",
          "data": {
            "text/plain": [
              "(1.0042, 20000000.0)"
            ]
          },
          "metadata": {
            "tags": []
          },
          "execution_count": 7
        }
      ]
    },
    {
      "cell_type": "markdown",
      "metadata": {
        "id": "W8eNEYvuWN0W",
        "colab_type": "text"
      },
      "source": [
        "## String Operation\n",
        " A string is defined as sequence of character enlosed in a quote.\n",
        "\n",
        "### String Indexing\n",
        "\n",
        "Since Strings are array of characters, string elements (characters) are accessible with the use of indices. The process of doing this is called **String Slicing**\n",
        "\n",
        "**NOTE: Indexing starts at 0, Therefore, upperbound is always excluded**"
      ]
    },
    {
      "cell_type": "code",
      "metadata": {
        "id": "gQGDOqTlVjdQ",
        "colab_type": "code",
        "outputId": "72690464-ea57-4d5f-dcfa-9e26b0acd0ea",
        "colab": {
          "base_uri": "https://localhost:8080/",
          "height": 34
        }
      },
      "source": [
        "S1 = 'It\"s so great!'\n",
        "S2 = 'Nice being here'\n",
        "#Slicing\n",
        "S1[0], S1[-1], S1[6:11]"
      ],
      "execution_count": 0,
      "outputs": [
        {
          "output_type": "execute_result",
          "data": {
            "text/plain": [
              "('I', '!', 'o gre')"
            ]
          },
          "metadata": {
            "tags": []
          },
          "execution_count": 16
        }
      ]
    },
    {
      "cell_type": "code",
      "metadata": {
        "id": "QI_jRPwEXvB9",
        "colab_type": "code",
        "outputId": "6f4f86d0-9d77-482a-a3a3-1e1ad731c153",
        "colab": {
          "base_uri": "https://localhost:8080/",
          "height": 34
        }
      },
      "source": [
        "# String Concatenation: This is the process of joining two (2) or more strings together\n",
        "S2 + S1"
      ],
      "execution_count": 0,
      "outputs": [
        {
          "output_type": "execute_result",
          "data": {
            "text/plain": [
              "'Nice being hereIt\"s so great!'"
            ]
          },
          "metadata": {
            "tags": []
          },
          "execution_count": 17
        }
      ]
    },
    {
      "cell_type": "code",
      "metadata": {
        "id": "90aJ5qLQjBo5",
        "colab_type": "code",
        "outputId": "894c339a-9123-4166-d3d7-ae1f285fd312",
        "colab": {
          "base_uri": "https://localhost:8080/",
          "height": 34
        }
      },
      "source": [
        "#String Length\n",
        "S3 = S2 + S1\n",
        "len(S3)"
      ],
      "execution_count": 0,
      "outputs": [
        {
          "output_type": "execute_result",
          "data": {
            "text/plain": [
              "29"
            ]
          },
          "metadata": {
            "tags": []
          },
          "execution_count": 34
        }
      ]
    },
    {
      "cell_type": "markdown",
      "metadata": {
        "id": "7Gyy8ZffjOrB",
        "colab_type": "text"
      },
      "source": [
        "### String Methods \n",
        "\n",
        "Python has a set of built-in methods that you can use on strings. These methods return new values without changing the original string."
      ]
    },
    {
      "cell_type": "code",
      "metadata": {
        "id": "k2-5mq5hjnhn",
        "colab_type": "code",
        "colab": {}
      },
      "source": [
        "'''capitalize()\tConverts the first character to upper case\n",
        "   upper()\tConverts a string into upper case\n",
        "'''"
      ],
      "execution_count": 0,
      "outputs": []
    },
    {
      "cell_type": "markdown",
      "metadata": {
        "id": "TeR7IFsnU_D_",
        "colab_type": "text"
      },
      "source": [
        "# Section 4: Inputs and Outputs"
      ]
    },
    {
      "cell_type": "markdown",
      "metadata": {
        "id": "SUsDJ3bpaq-w",
        "colab_type": "text"
      },
      "source": [
        "### Inputs\n",
        "\n",
        "This is a programme to request for a user's age and output a string \"You are **Age** years old\"\n",
        "User inputs"
      ]
    },
    {
      "cell_type": "code",
      "metadata": {
        "id": "LbGMMww2apXH",
        "colab_type": "code",
        "outputId": "8506fde2-3e6a-4e77-e33f-d8ba80951d03",
        "colab": {
          "base_uri": "https://localhost:8080/",
          "height": 34
        }
      },
      "source": [
        "age = input('How old are you? ')"
      ],
      "execution_count": 0,
      "outputs": [
        {
          "output_type": "stream",
          "text": [
            "How old are you?10\n"
          ],
          "name": "stdout"
        }
      ]
    },
    {
      "cell_type": "markdown",
      "metadata": {
        "id": "DUBZ4qMJbwjF",
        "colab_type": "text"
      },
      "source": [
        "Other interesting and sometimes, better ways of printing your output\n"
      ]
    },
    {
      "cell_type": "markdown",
      "metadata": {
        "id": "IewG0SpNa7H-",
        "colab_type": "text"
      },
      "source": [
        "### Outputs"
      ]
    },
    {
      "cell_type": "code",
      "metadata": {
        "id": "Y89ObyWibypv",
        "colab_type": "code",
        "outputId": "7f44b714-4e7c-4d2c-d397-44ff98c8d4ca",
        "colab": {
          "base_uri": "https://localhost:8080/",
          "height": 51
        }
      },
      "source": [
        "# One way of making your print statement more descriptive\n",
        "print('You are', age, 'years old')\n",
        "\n",
        "print ('You are ' + str(age) + ' years old')"
      ],
      "execution_count": 0,
      "outputs": [
        {
          "output_type": "stream",
          "text": [
            "You are 10 years old\n",
            "You are 10 years old\n"
          ],
          "name": "stdout"
        }
      ]
    },
    {
      "cell_type": "markdown",
      "metadata": {
        "id": "G0VtCQ_lxUbA",
        "colab_type": "text"
      },
      "source": [
        "### Section 3: Program control flow\n",
        "Control statements\n",
        "- If... else if (elif)... end\n",
        "- For... \n",
        "- While... break\n",
        "\n",
        "Write a program to check a user's age; if age is less than 20, print you're lucky to be here, if age is between 20 and 25, print make good use of this opportunity, if age is above 25, print print you are in the right place?"
      ]
    },
    {
      "cell_type": "code",
      "metadata": {
        "id": "NCJwyYZshB9c",
        "colab_type": "code",
        "outputId": "7c16698b-fe9f-4259-bac4-14bd0539cf9f",
        "colab": {
          "base_uri": "https://localhost:8080/",
          "height": 51
        }
      },
      "source": [
        "'''The conditions are:\n",
        "if age is less than 20, print you're lucky to be here;\n",
        "if age is between 20 and 25, print make good use of this opportunity;\n",
        "if age is above 25, print you are in the right place\n",
        "'''\n",
        "user_age = input('Input your age please: ')\n",
        "user_age = int(user_age)                  # To convert user input to an integer\n",
        "if user_age <= 0:                         # To check for invalid age input\n",
        "    print('You have entered an invalid age')\n",
        "elif user_age < 20 :\n",
        "    print(\"You're lucky to be here\")\n",
        "elif user_age >= 20 and user_age <= 25:       \n",
        "    print('Make good use of this opportunity')\n",
        "else:                                    # This condition considers every other age bracket not included\n",
        "    print('You are in the right place')"
      ],
      "execution_count": 0,
      "outputs": [
        {
          "output_type": "stream",
          "text": [
            "Input your age please: 33\n",
            "You are in the right place\n"
          ],
          "name": "stdout"
        }
      ]
    },
    {
      "cell_type": "code",
      "metadata": {
        "id": "xE7-7PoegvF5",
        "colab_type": "code",
        "colab": {}
      },
      "source": [
        "23"
      ],
      "execution_count": 0,
      "outputs": []
    },
    {
      "cell_type": "markdown",
      "metadata": {
        "id": "ddoCNuMBxUbJ",
        "colab_type": "text"
      },
      "source": [
        "### Class activity\n",
        "##### This is a programme to calculate the volume of cylinders and cones based on users' interest\n"
      ]
    },
    {
      "cell_type": "markdown",
      "metadata": {
        "id": "n_jpf7dGxUbP",
        "colab_type": "text"
      },
      "source": [
        "$ Formula: $\n",
        "- $ Cone: (1/3)*pi*r^2h $\n",
        "- $ Cylinder: pi*r^2h $"
      ]
    },
    {
      "cell_type": "code",
      "metadata": {
        "id": "sTnwwTZYxUbK",
        "colab_type": "code",
        "outputId": "bf1f75aa-818e-40a8-cac3-adbc8d3c8397",
        "colab": {}
      },
      "source": [
        "shape = input('What shape would you like to calculate? cone(c) or cyliner (cy) \\n')\n",
        "radius = int(input('What is the radius in cm? \\n'))\n",
        "height = int(input('What is the height in cm? \\n'))"
      ],
      "execution_count": 0,
      "outputs": [
        {
          "output_type": "stream",
          "text": [
            "What shape would you like to calculate? cone(c) or cyliner (cy) \n",
            "c\n",
            "What is the radius in cm? \n",
            "5\n",
            "What is the height in cm? \n",
            "10\n"
          ],
          "name": "stdout"
        }
      ]
    },
    {
      "cell_type": "code",
      "metadata": {
        "id": "NK8RsnLfxUbQ",
        "colab_type": "code",
        "outputId": "f3a292a6-8e87-4ee9-9064-c0600c0615e0",
        "colab": {}
      },
      "source": [
        "import math as m\n",
        "if shape == 'c':\n",
        "    sha = 'Cone'                           # Specifying the real shape name \n",
        "    volume = (1/3) * m.pi * (radius ** 2) * height\n",
        "else:\n",
        "    sha = 'Cylinder'                       # Real shape name\n",
        "    volume = m.pi * (radius ** 2) * height\n",
        "volume = round(volume, 2)                  # To have a well rounded result\n",
        "print(volume)"
      ],
      "execution_count": 0,
      "outputs": [
        {
          "output_type": "stream",
          "text": [
            "261.8\n"
          ],
          "name": "stdout"
        }
      ]
    },
    {
      "cell_type": "code",
      "metadata": {
        "id": "KQYSe1C1xUbV",
        "colab_type": "code",
        "outputId": "e5019b32-daa6-423d-a1df-953f3f3f0b89",
        "colab": {}
      },
      "source": [
        "# One way of making your print statement more descriptive\n",
        "print ('The volume of a ' + sha + ' with radius ' + str(radius) + 'cm and height ' + str(height) + 'cm is ' + str(volume) + 'cm3')\n",
        "\n",
        "# Another descriptive method to print\n",
        "output1 = 'The volume of a {:s} with radius {:d}cm, and height {:d}cm, is {:f}cm3' .format(sha, radius, height, volume)\n",
        "print(output1)\n",
        "\n",
        "# And yet another descriptive method of printing\n",
        "output2 = 'The volume of a %s with radius %dcm, and height %dcm, is %dcm3' %(sha, radius, height, volume)\n",
        "print(output2)"
      ],
      "execution_count": 0,
      "outputs": [
        {
          "output_type": "stream",
          "text": [
            "The volume of a Cone with radius 5cm and height 10cm is 261.8cm3\n",
            "The volume of a Cone with radius 5cm, and height 10cm, is 261.800000cm3\n",
            "The volume of a Cone with radius 5cm, and height 10cm, is 261cm3\n"
          ],
          "name": "stdout"
        }
      ]
    },
    {
      "cell_type": "markdown",
      "metadata": {
        "id": "LOEMvgiCxUbU",
        "colab_type": "text"
      },
      "source": [
        "Other interesting and sometimes, better ways of printing your output"
      ]
    },
    {
      "cell_type": "markdown",
      "metadata": {
        "id": "8r5dSFyYxUbY",
        "colab_type": "text"
      },
      "source": [
        "## Assignments\n",
        "#### To be done before the next class \n"
      ]
    },
    {
      "cell_type": "markdown",
      "metadata": {
        "id": "JsOQ14_sxUbY",
        "colab_type": "text"
      },
      "source": [
        "- Write a program to convert the following degrees in Celsius to Fahrenheit\n",
        " - 50\n",
        " - 100\n",
        " - 0\n",
        " - 25\n",
        "- Write a program to calculate simple interest, with the user specifying the principal, rate, and time.\n",
        "- Write a program to check if a user defined year is leap year or not\n",
        "- Write a program to check if a user defined number is odd or even\n",
        "\n",
        "Hints:\n",
        " - $ Fahrenheit = 9/5C + 32 $\n",
        " - $ Celsius = 5/9(F - 32) $\n",
        " - $ Simple interest = PRT/100 $\n",
        " - $ Leap year = 366 days $"
      ]
    },
    {
      "cell_type": "markdown",
      "metadata": {
        "id": "BgqUUet2xUbZ",
        "colab_type": "text"
      },
      "source": [
        "## N.B: Daily practice is essential to your progress. Have fun!"
      ]
    },
    {
      "cell_type": "code",
      "metadata": {
        "id": "8QqtWzbqxUba",
        "colab_type": "code",
        "colab": {}
      },
      "source": [
        ""
      ],
      "execution_count": 0,
      "outputs": []
    }
  ]
}