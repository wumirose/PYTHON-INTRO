{
 "cells": [
  {
   "cell_type": "markdown",
   "metadata": {},
   "source": [
    "# Data Science Nigeria: Introductory Python Training\n",
    "\n",
    "<img src= './Images/DSN.jpg', alt = \"Data Science Nigeria\" width= 600, height = 300/>"
   ]
  },
  {
   "cell_type": "markdown",
   "metadata": {},
   "source": [
    "# <font color=green> Week 4\n",
    "* Dictionaries\n",
    "* Sets\n",
    "* I/O: Input and Output in Python "
   ]
  },
  {
   "cell_type": "markdown",
   "metadata": {},
   "source": [
    "## Dictionaries\n",
    "                                                                      \n",
    "A dictionary is a collection of key-value pairs separated by colon. All keys in a dictionary must be unique. The key, value pairs are separated with commas.   \n",
    "\n",
    "### VALUES\n",
    "\n",
    "* Values could be any arbitrary object\n",
    "\n",
    "### KEYS\n",
    "* Keys must be immutable eg. mutable objects like list ie. ['one'] or tuple ie. ('one') are not allowed\n",
    "* No duplicate key is allowed. When this happens, the last assignment overwrites the first\n",
    "\n",
    "**Creating a Dictionary** \n",
    "                              \n",
    "          \n",
    "A pair of braces creates an empty dictionary: {}. Placing a comma-separated list of key:value pairs within the braces adds initial key:value pairs to the dictionary                                  "
   ]
  },
  {
   "cell_type": "code",
   "execution_count": 1,
   "metadata": {},
   "outputs": [
    {
     "data": {
      "text/plain": [
       "{}"
      ]
     },
     "execution_count": 1,
     "metadata": {},
     "output_type": "execute_result"
    }
   ],
   "source": [
    "#create an empty dictionary\n",
    "x = {}\n",
    "\n",
    "x"
   ]
  },
  {
   "cell_type": "code",
   "execution_count": 2,
   "metadata": {},
   "outputs": [
    {
     "name": "stdout",
     "output_type": "stream",
     "text": [
      "Dictionary_X_content = {'one': 1, 'two': 2, 'three': 3}\n",
      "Dictionary_Y_content = {'five': 5, 'six': 6, 'seven': 7}\n"
     ]
    }
   ],
   "source": [
    "#create a three items dictionary\n",
    "x = {\"one\":1, \"two\":2, \"three\":3}\n",
    "\n",
    "y= {\"five\":5, \"six\":6, \"seven\":7}\n",
    "\n",
    "print('Dictionary_X_content =', x)\n",
    "print('Dictionary_Y_content =', y)"
   ]
  },
  {
   "cell_type": "markdown",
   "metadata": {},
   "source": [
    "### Accessing elements of a dictionary\n",
    "\n",
    "[] square brackets can be used to index Python dictionary"
   ]
  },
  {
   "cell_type": "code",
   "execution_count": 3,
   "metadata": {},
   "outputs": [
    {
     "data": {
      "text/plain": [
       "3"
      ]
     },
     "execution_count": 3,
     "metadata": {},
     "output_type": "execute_result"
    }
   ],
   "source": [
    "#This returns the value for the specified key\n",
    "x['three']"
   ]
  },
  {
   "cell_type": "code",
   "execution_count": 4,
   "metadata": {},
   "outputs": [
    {
     "ename": "KeyError",
     "evalue": "'eight'",
     "output_type": "error",
     "traceback": [
      "\u001b[1;31m---------------------------------------------------------------------------\u001b[0m",
      "\u001b[1;31mKeyError\u001b[0m                                  Traceback (most recent call last)",
      "\u001b[1;32m<ipython-input-4-bf78abf149ff>\u001b[0m in \u001b[0;36m<module>\u001b[1;34m()\u001b[0m\n\u001b[0;32m      1\u001b[0m \u001b[1;31m#Python returns error if the key specified does not exist\u001b[0m\u001b[1;33m\u001b[0m\u001b[1;33m\u001b[0m\u001b[0m\n\u001b[1;32m----> 2\u001b[1;33m \u001b[0mx\u001b[0m\u001b[1;33m[\u001b[0m\u001b[1;34m'eight'\u001b[0m\u001b[1;33m]\u001b[0m\u001b[1;33m\u001b[0m\u001b[0m\n\u001b[0m",
      "\u001b[1;31mKeyError\u001b[0m: 'eight'"
     ]
    }
   ],
   "source": [
    "#Python returns error if the key specified does not exist\n",
    "x['eight']"
   ]
  },
  {
   "cell_type": "markdown",
   "metadata": {},
   "source": [
    "### Updating a Dictionary"
   ]
  },
  {
   "cell_type": "code",
   "execution_count": 5,
   "metadata": {},
   "outputs": [],
   "source": [
    "x['eight'] = 8     # Add new entry\n",
    "x[\"four\"]=4        #Add new entry\n",
    "x['bottom'] = \"end\" # Add new entry"
   ]
  },
  {
   "cell_type": "code",
   "execution_count": 6,
   "metadata": {},
   "outputs": [
    {
     "name": "stdout",
     "output_type": "stream",
     "text": [
      "New dictionary_X =  {'one': 'New1', 'two': 2, 'three': 3, 'eight': 8, 'four': 4, 'bottom': 'end'}\n"
     ]
    }
   ],
   "source": [
    "#change a value\n",
    "x[\"one\"] = \"New1\"\n",
    "\n",
    "print('New dictionary_X = ', x)"
   ]
  },
  {
   "cell_type": "markdown",
   "metadata": {},
   "source": [
    "## Dictionary Methods and Functions"
   ]
  },
  {
   "cell_type": "markdown",
   "metadata": {},
   "source": [
    "#### Methods "
   ]
  },
  {
   "cell_type": "code",
   "execution_count": 7,
   "metadata": {},
   "outputs": [
    {
     "name": "stdout",
     "output_type": "stream",
     "text": [
      "{'five': 5, 'six': 6, 'seven': 7, 'two': 2, 'three': 3, 'one': 'New1'}\n"
     ]
    }
   ],
   "source": [
    "#merge 2 dictionaries by using one to update the other\n",
    "y.update({'two': 2, 'three': 3, 'one': 'New1'})\n",
    "print(y)"
   ]
  },
  {
   "cell_type": "code",
   "execution_count": 8,
   "metadata": {},
   "outputs": [
    {
     "data": {
      "text/plain": [
       "dict_items([('five', 5), ('six', 6), ('seven', 7), ('two', 2), ('three', 3), ('one', 'New1')])"
      ]
     },
     "execution_count": 8,
     "metadata": {},
     "output_type": "execute_result"
    }
   ],
   "source": [
    "#To get the list of dict's (key, value) tuple pairs\n",
    "y.items()"
   ]
  },
  {
   "cell_type": "code",
   "execution_count": 9,
   "metadata": {},
   "outputs": [
    {
     "name": "stdout",
     "output_type": "stream",
     "text": [
      "dict_keys(['five', 'six', 'seven', 'two', 'three', 'one'])\n"
     ]
    }
   ],
   "source": [
    "#get a list of all the keys\n",
    "print(y.keys())"
   ]
  },
  {
   "cell_type": "code",
   "execution_count": 10,
   "metadata": {},
   "outputs": [
    {
     "data": {
      "text/plain": [
       "dict_values([5, 6, 7, 2, 3, 'New1'])"
      ]
     },
     "execution_count": 10,
     "metadata": {},
     "output_type": "execute_result"
    }
   ],
   "source": [
    "#get a list of all the values\n",
    "y.values()"
   ]
  },
  {
   "cell_type": "code",
   "execution_count": 11,
   "metadata": {},
   "outputs": [
    {
     "name": "stdout",
     "output_type": "stream",
     "text": [
      "New1\n"
     ]
    }
   ],
   "source": [
    "#get the value for a given key. If key is not available,return value = None.\n",
    "print(y.get('one'))\n"
   ]
  },
  {
   "cell_type": "code",
   "execution_count": 12,
   "metadata": {},
   "outputs": [
    {
     "name": "stdout",
     "output_type": "stream",
     "text": [
      "z =  {'one': 'New1', 'two': 2, 'three': 3, 'eight': 8, 'four': 4, 'bottom': 'end'} \n",
      " w =  {'one': 'New1', 'two': 2, 'three': 3, 'eight': 8, 'four': 4, 'bottom': 'end'}\n"
     ]
    }
   ],
   "source": [
    "#make a copy of a dictionary\n",
    "z = x.copy()\n",
    "w = z.copy()\n",
    "print('z = ',z, '\\n','w = ', w)"
   ]
  },
  {
   "cell_type": "code",
   "execution_count": 13,
   "metadata": {},
   "outputs": [
    {
     "data": {
      "text/plain": [
       "{}"
      ]
     },
     "execution_count": 13,
     "metadata": {},
     "output_type": "execute_result"
    }
   ],
   "source": [
    "# remove all entries in dict\n",
    "w.clear()\n",
    "\n",
    "w"
   ]
  },
  {
   "cell_type": "code",
   "execution_count": 14,
   "metadata": {},
   "outputs": [
    {
     "data": {
      "text/plain": [
       "{'Nigeria': ['Abia', 'Umuahia']}"
      ]
     },
     "execution_count": 14,
     "metadata": {},
     "output_type": "execute_result"
    }
   ],
   "source": [
    "countries = {'Nigeria':['Abia', 'Umuahia']}\n",
    "countries"
   ]
  },
  {
   "cell_type": "markdown",
   "metadata": {},
   "source": [
    "### Looping Techniques\n",
    "\n",
    "When looping through dictionaries, the key and corresponding value can be retrieved at the same time using the .items() method."
   ]
  },
  {
   "cell_type": "code",
   "execution_count": 15,
   "metadata": {},
   "outputs": [
    {
     "name": "stdout",
     "output_type": "stream",
     "text": [
      "{'one': 'New1', 'two': 2, 'three': 3, 'eight': 8, 'four': 4, 'bottom': 'end'}\n"
     ]
    }
   ],
   "source": [
    "print(x)"
   ]
  },
  {
   "cell_type": "code",
   "execution_count": 16,
   "metadata": {},
   "outputs": [
    {
     "ename": "ValueError",
     "evalue": "too many values to unpack (expected 2)",
     "output_type": "error",
     "traceback": [
      "\u001b[1;31m---------------------------------------------------------------------------\u001b[0m",
      "\u001b[1;31mValueError\u001b[0m                                Traceback (most recent call last)",
      "\u001b[1;32m<ipython-input-16-7d1d345f5ff8>\u001b[0m in \u001b[0;36m<module>\u001b[1;34m()\u001b[0m\n\u001b[1;32m----> 1\u001b[1;33m \u001b[1;32mfor\u001b[0m \u001b[0mk\u001b[0m\u001b[1;33m,\u001b[0m \u001b[0mv\u001b[0m \u001b[1;32min\u001b[0m \u001b[0mx\u001b[0m\u001b[1;33m:\u001b[0m\u001b[1;33m\u001b[0m\u001b[0m\n\u001b[0m\u001b[0;32m      2\u001b[0m     \u001b[0mprint\u001b[0m\u001b[1;33m(\u001b[0m\u001b[0mk\u001b[0m\u001b[1;33m,\u001b[0m\u001b[0mv\u001b[0m\u001b[1;33m)\u001b[0m\u001b[1;33m\u001b[0m\u001b[0m\n",
      "\u001b[1;31mValueError\u001b[0m: too many values to unpack (expected 2)"
     ]
    }
   ],
   "source": [
    "for k, v in x:\n",
    "    print(k,v)"
   ]
  },
  {
   "cell_type": "code",
   "execution_count": 17,
   "metadata": {},
   "outputs": [
    {
     "data": {
      "text/plain": [
       "dict_keys(['one', 'two', 'three', 'eight', 'four', 'bottom'])"
      ]
     },
     "execution_count": 17,
     "metadata": {},
     "output_type": "execute_result"
    }
   ],
   "source": [
    "x.keys()"
   ]
  },
  {
   "cell_type": "markdown",
   "metadata": {},
   "source": [
    "#### Dictionary Functions"
   ]
  },
  {
   "cell_type": "code",
   "execution_count": 18,
   "metadata": {},
   "outputs": [
    {
     "data": {
      "text/plain": [
       "True"
      ]
     },
     "execution_count": 18,
     "metadata": {},
     "output_type": "execute_result"
    }
   ],
   "source": [
    "#To compare 2 dictionary, cmp() function is not available in python 3, we can use\n",
    "\n",
    "x == z"
   ]
  },
  {
   "cell_type": "code",
   "execution_count": 19,
   "metadata": {},
   "outputs": [
    {
     "data": {
      "text/plain": [
       "{'bottom': 'end', 'eight': 8, 'four': 4, 'three': 3, 'two': 2}"
      ]
     },
     "execution_count": 19,
     "metadata": {},
     "output_type": "execute_result"
    }
   ],
   "source": [
    "#delete entry with key 'one'\n",
    "del (z[\"one\"])\n",
    "z"
   ]
  },
  {
   "cell_type": "code",
   "execution_count": 20,
   "metadata": {},
   "outputs": [
    {
     "ename": "NameError",
     "evalue": "name 'z' is not defined",
     "output_type": "error",
     "traceback": [
      "\u001b[1;31m---------------------------------------------------------------------------\u001b[0m",
      "\u001b[1;31mNameError\u001b[0m                                 Traceback (most recent call last)",
      "\u001b[1;32m<ipython-input-20-5eb33ca320bd>\u001b[0m in \u001b[0;36m<module>\u001b[1;34m()\u001b[0m\n\u001b[0;32m      1\u001b[0m \u001b[1;31m#delete the entire dictionary\u001b[0m\u001b[1;33m\u001b[0m\u001b[1;33m\u001b[0m\u001b[0m\n\u001b[0;32m      2\u001b[0m \u001b[1;32mdel\u001b[0m \u001b[0mz\u001b[0m\u001b[1;33m\u001b[0m\u001b[0m\n\u001b[1;32m----> 3\u001b[1;33m \u001b[0mz\u001b[0m \u001b[1;31m#already deleted so it will not be located\u001b[0m\u001b[1;33m\u001b[0m\u001b[0m\n\u001b[0m",
      "\u001b[1;31mNameError\u001b[0m: name 'z' is not defined"
     ]
    }
   ],
   "source": [
    "#delete the entire dictionary\n",
    "del z\n",
    "z #already deleted so it can not be located"
   ]
  },
  {
   "cell_type": "code",
   "execution_count": 21,
   "metadata": {},
   "outputs": [
    {
     "data": {
      "text/plain": [
       "6"
      ]
     },
     "execution_count": 21,
     "metadata": {},
     "output_type": "execute_result"
    }
   ],
   "source": [
    "#number of items in a dictionary\n",
    "len(x)"
   ]
  },
  {
   "cell_type": "code",
   "execution_count": 22,
   "metadata": {},
   "outputs": [
    {
     "name": "stdout",
     "output_type": "stream",
     "text": [
      "value assigned to key \"one\" in X =  New1\n",
      "X after deleting key \"three\" and its value {'one': 'New1', 'two': 2, 'eight': 8, 'four': 4, 'bottom': 'end'}\n"
     ]
    }
   ],
   "source": [
    "#using the if statement to get the values\n",
    "if \"one\" in x:\n",
    "    print ('value assigned to key \"one\" in X = ',x['one'])\n",
    "\n",
    "if \"two\" not in x:\n",
    "    print (\"Two not found\")\n",
    "\n",
    "if \"three\" in x:\n",
    "    del x['three']\n",
    "    print ('X after deleting key \"three\" and its value', x)"
   ]
  },
  {
   "cell_type": "markdown",
   "metadata": {},
   "source": [
    "## Sets\n",
    " A set is an unordered collection of distinct objects.\n",
    " \n",
    "* Sets are unordered.\n",
    "* Set elements are unique\n",
    "* A set itself may be mutable, but the elements of a set must be an immutable type\n",
    "\n",
    "Just like we have it in mathematical concept, Set objects also support operations like union, intersection, difference, and symmetric difference.\n",
    " \n",
    "**Creating a Set**\n",
    "\n",
    "Curly braces {} or the set() function to create an empty set"
   ]
  },
  {
   "cell_type": "code",
   "execution_count": 23,
   "metadata": {},
   "outputs": [
    {
     "name": "stdout",
     "output_type": "stream",
     "text": [
      "{'n', 'a', 'h', ' ', 'l', 'i', 's', 'g', 'e', 'r', 'p', 'w', 't', 'd', 'b', 'x'}\n"
     ]
    }
   ],
   "source": [
    "#using the set function\n",
    "a = set('this string will be expanded')\n",
    "print(a)"
   ]
  },
  {
   "cell_type": "code",
   "execution_count": 24,
   "metadata": {},
   "outputs": [
    {
     "data": {
      "text/plain": [
       "{(1, 2, 3), 3.14159, 42, 'one'}"
      ]
     },
     "execution_count": 24,
     "metadata": {},
     "output_type": "execute_result"
    }
   ],
   "source": [
    "#using the set curly braces\n",
    "b = {42, 'one', (1, 2, 3), 3.14159}\n",
    "b"
   ]
  },
  {
   "cell_type": "code",
   "execution_count": 25,
   "metadata": {},
   "outputs": [
    {
     "name": "stdout",
     "output_type": "stream",
     "text": [
      "{1, 3, 5, 7, 9}\n"
     ]
    }
   ],
   "source": [
    "#using the set curly braces\n",
    "int_Set = {1,3,5,7,9}\n",
    "\n",
    "print(int_Set)"
   ]
  },
  {
   "cell_type": "code",
   "execution_count": 26,
   "metadata": {},
   "outputs": [
    {
     "name": "stdout",
     "output_type": "stream",
     "text": [
      "{'banana', 'mango', 'apple', 'pear', 'orange'}\n"
     ]
    }
   ],
   "source": [
    "Fruit_set = {'mango','apple', 'orange', 'apple', 'pear', 'orange', 'banana'}\n",
    "print(Fruit_set)                      # show that duplicates have been removed"
   ]
  },
  {
   "cell_type": "code",
   "execution_count": 27,
   "metadata": {},
   "outputs": [
    {
     "name": "stdout",
     "output_type": "stream",
     "text": [
      "{'banana', 'orange', 'chicken', 'apple', 'pear', 'rice'}\n"
     ]
    }
   ],
   "source": [
    "Food_set = set(('rice', 'apple', 'orange', 'chicken', 'pear', 'orange', 'banana'))\n",
    "                \n",
    "print(Food_set)                      # show that duplicates have been removed"
   ]
  },
  {
   "cell_type": "markdown",
   "metadata": {},
   "source": [
    "## Testing For elements of a set"
   ]
  },
  {
   "cell_type": "code",
   "execution_count": 28,
   "metadata": {},
   "outputs": [
    {
     "name": "stdout",
     "output_type": "stream",
     "text": [
      "True\n",
      "True\n",
      "False\n",
      "True\n"
     ]
    }
   ],
   "source": [
    "print('coconut' not in Fruit_set)\n",
    "\n",
    "print('banana' in Fruit_set)\n",
    "\n",
    "print('rice' in Fruit_set)\n",
    "\n",
    "print('bread' not in Fruit_set)"
   ]
  },
  {
   "cell_type": "markdown",
   "metadata": {},
   "source": [
    "## Set Operations\n",
    "Union, intersection, difference, and symmetric difference."
   ]
  },
  {
   "cell_type": "markdown",
   "metadata": {},
   "source": [
    "#### Union\n",
    "\n",
    "set union can be performed with the | operator or .union() method"
   ]
  },
  {
   "cell_type": "code",
   "execution_count": 29,
   "metadata": {},
   "outputs": [
    {
     "name": "stdout",
     "output_type": "stream",
     "text": [
      "{'banana', 'mango', 'chicken', 'rice', 'apple', 'pear', 'orange'}\n",
      "{'banana', 'mango', 'chicken', 'rice', 'apple', 'pear', 'orange'}\n"
     ]
    }
   ],
   "source": [
    "# elements in Food_set or  Fruit_set or both\n",
    "print(Food_set | Fruit_set)              \n",
    "\n",
    "#or \n",
    "\n",
    "print(Food_set.union(Fruit_set))"
   ]
  },
  {
   "cell_type": "code",
   "execution_count": 30,
   "metadata": {},
   "outputs": [
    {
     "name": "stdout",
     "output_type": "stream",
     "text": [
      "{'banana', 'apple', 'pear', 'orange'}\n",
      "{'banana', 'apple', 'pear', 'orange'}\n"
     ]
    }
   ],
   "source": [
    "#elements in Food_set **and** Fruit_set\n",
    "print(Food_set & Fruit_set) \n",
    "\n",
    "print(Food_set.intersection(Fruit_set))"
   ]
  },
  {
   "cell_type": "code",
   "execution_count": 31,
   "metadata": {},
   "outputs": [
    {
     "name": "stdout",
     "output_type": "stream",
     "text": [
      "{'chicken', 'rice'}\n",
      "{'chicken', 'rice'}\n"
     ]
    }
   ],
   "source": [
    "#difference of elements in Food_set **and** Fruit_set\n",
    "#elements in Food_set but not in Fruit_set\n",
    "\n",
    "print(Food_set - Fruit_set) \n",
    "\n",
    "print(Food_set.difference(Fruit_set))"
   ]
  },
  {
   "cell_type": "code",
   "execution_count": 32,
   "metadata": {},
   "outputs": [
    {
     "data": {
      "text/plain": [
       "False"
      ]
     },
     "execution_count": 32,
     "metadata": {},
     "output_type": "execute_result"
    }
   ],
   "source": [
    "#Check if two sets have any elements in common\n",
    "Food_set.isdisjoint(Fruit_set)   #RETURNS TRUE WHEN THERES NO COMMON ELEMENT "
   ]
  },
  {
   "cell_type": "code",
   "execution_count": 33,
   "metadata": {},
   "outputs": [
    {
     "data": {
      "text/plain": [
       "False"
      ]
     },
     "execution_count": 33,
     "metadata": {},
     "output_type": "execute_result"
    }
   ],
   "source": [
    "##Determines whether one set is a subset of the other\n",
    "Food_set.issubset(Fruit_set)   #Return first set is present in the second "
   ]
  },
  {
   "cell_type": "markdown",
   "metadata": {},
   "source": [
    "#### Modifying a set"
   ]
  },
  {
   "cell_type": "code",
   "execution_count": 34,
   "metadata": {},
   "outputs": [
    {
     "name": "stdout",
     "output_type": "stream",
     "text": [
      "None\n"
     ]
    }
   ],
   "source": [
    "#using update method\n",
    "print(Food_set.update(Fruit_set))"
   ]
  },
  {
   "cell_type": "code",
   "execution_count": 35,
   "metadata": {},
   "outputs": [
    {
     "data": {
      "text/plain": [
       "False"
      ]
     },
     "execution_count": 35,
     "metadata": {},
     "output_type": "execute_result"
    }
   ],
   "source": [
    "#Determines whether one set is a proper subset of the other\n",
    "Food_set <= (Fruit_set)"
   ]
  },
  {
   "cell_type": "markdown",
   "metadata": {},
   "source": [
    "## set comprehensions\n",
    "\n",
    "Set comprehensions are also supported. provide a concise way to create lists. Common applications are:\n",
    "* to make new ldictionary\n",
    "* to create a subsequence of those elements that satisfy a certain condition.\n"
   ]
  },
  {
   "cell_type": "code",
   "execution_count": 36,
   "metadata": {},
   "outputs": [
    {
     "name": "stdout",
     "output_type": "stream",
     "text": [
      "{'chicken', 'rice'}\n"
     ]
    }
   ],
   "source": [
    "Diff_set = {x for x in Food_set if x not in Fruit_set}\n",
    "print(Diff_set)"
   ]
  },
  {
   "cell_type": "code",
   "execution_count": 37,
   "metadata": {},
   "outputs": [
    {
     "name": "stdout",
     "output_type": "stream",
     "text": [
      "{'a', 'b', 'c'}\n"
     ]
    }
   ],
   "source": [
    " a = {x for x in 'abracadabra' if x in 'abc'}\n",
    "print(a)"
   ]
  },
  {
   "cell_type": "markdown",
   "metadata": {},
   "source": [
    "## I/O: Input and Output in Python\n",
    "\n",
    "The syntax to retrieve python output is \n",
    "\n",
    ">print(something) \n",
    "\n",
    "> Note that, the **something** could be \n",
    "\n",
    "* String eg. \"This is an output\"\n",
    "* Integer eg. 1, 3, 200, 100000\n",
    "* Float eg. 3.243, 5.678, 4.5e+6\n",
    "* Variable of a location that stores value eg. A, Result etc\n",
    "\n",
    "We use the print() function to output data to the standard output device (screen)."
   ]
  },
  {
   "cell_type": "code",
   "execution_count": 48,
   "metadata": {},
   "outputs": [
    {
     "name": "stdout",
     "output_type": "stream",
     "text": [
      "1000\n",
      "1.5478\n",
      "1 2 3 4\n",
      "This sentence is output to the screen\n",
      "5\n",
      "The value of a is 5\n"
     ]
    }
   ],
   "source": [
    "#To print an interger value\n",
    "print(1000)\n",
    "\n",
    "#To print a float value\n",
    "print(15478e-4)\n",
    "\n",
    "\n",
    "#To print many output at a time, separate them using comma\n",
    "print(1,2,3,4)\n",
    "\n",
    "\n",
    "# To print \"This sentence is output to the screen\n",
    "print('This sentence is output to the screen')\n",
    "\n",
    "\n",
    "a = 5\n",
    "# To print the value stored in location named a\n",
    "print(a)\n",
    "\n",
    "# To make the output more interactive,a string about the output could be added\n",
    "# The value of a is 5\n",
    "print('The value of a is', a)"
   ]
  },
  {
   "cell_type": "code",
   "execution_count": 39,
   "metadata": {},
   "outputs": [
    {
     "name": "stdout",
     "output_type": "stream",
     "text": [
      "1*2*3*4\n"
     ]
    }
   ],
   "source": [
    "#Adding separators inbetween output\n",
    "\n",
    "print(1,2,3,4,sep='*')\n"
   ]
  },
  {
   "cell_type": "code",
   "execution_count": 40,
   "metadata": {},
   "outputs": [
    {
     "name": "stdout",
     "output_type": "stream",
     "text": [
      "1 2 3 4&"
     ]
    }
   ],
   "source": [
    "#Adding an indicator to the nend of the list\n",
    "print(1,2,3,4,end='&')\n"
   ]
  },
  {
   "cell_type": "markdown",
   "metadata": {},
   "source": [
    "## Output formatting\n",
    "\n",
    "Sometimes we would like to format our output to make it look attractive. This can be done by using the str.format() method. "
   ]
  },
  {
   "cell_type": "code",
   "execution_count": 41,
   "metadata": {},
   "outputs": [
    {
     "name": "stdout",
     "output_type": "stream",
     "text": [
      "The value of x is 5 and y is 10\n"
     ]
    }
   ],
   "source": [
    "x = 5; y = 10\n",
    "print('The value of x is {} and y is {}'.format(x,y))"
   ]
  },
  {
   "cell_type": "code",
   "execution_count": 42,
   "metadata": {},
   "outputs": [
    {
     "name": "stdout",
     "output_type": "stream",
     "text": [
      "I love bread and butter\n",
      "I love butter and bread\n"
     ]
    }
   ],
   "source": [
    "print('I love {0} and {1}'.format('bread','butter'))\n",
    "# Output: I love bread and butter\n",
    "\n",
    "print('I love {1} and {0}'.format('bread','butter'))\n",
    "# Output: I love butter and bread"
   ]
  }
 ],
 "metadata": {
  "kernelspec": {
   "display_name": "Python 3",
   "language": "python",
   "name": "python3"
  },
  "language_info": {
   "codemirror_mode": {
    "name": "ipython",
    "version": 3
   },
   "file_extension": ".py",
   "mimetype": "text/x-python",
   "name": "python",
   "nbconvert_exporter": "python",
   "pygments_lexer": "ipython3",
   "version": "3.6.4"
  }
 },
 "nbformat": 4,
 "nbformat_minor": 2
}
