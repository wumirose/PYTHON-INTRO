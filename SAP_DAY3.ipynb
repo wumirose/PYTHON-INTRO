{
 "cells": [
  {
   "cell_type": "markdown",
   "metadata": {},
   "source": [
    "A quick recap of DAY2 discussions:\n",
    "- Control statements\n",
    "     - If... elif... else:<br>\n",
    "      If (condition is met):<br>\n",
    "        (perform operation)<br>\n",
    "     elif (another condition is met):<br>\n",
    "         (perform another operation)<br>\n",
    "             ...\n",
    "     else:              # that is, if none of the conditions stated above was met<br>\n",
    "         (perform this final operation)<br>\n",
    "\n",
    "     - For...<br>\n",
    "     for (range of values or valid conditions):<br>\n",
    "         (perform operation)<br>\n",
    "\n",
    "     - While...<br>\n",
    "     While (condition remains valid):<br>\n",
    "     (perform operation)\n",
    " \n",
    "- Python List, Dictionaries and Sets"
   ]
  },
  {
   "cell_type": "markdown",
   "metadata": {},
   "source": [
    "# ..................................................................................\n",
    "### Monday, 13th April, 2020\n",
    "# ..................................................................................\n"
   ]
  },
  {
   "cell_type": "markdown",
   "metadata": {},
   "source": [
    "####  Functions, Lambda Expressions, Time and DateTime in Python\n",
    "- Functions in Python \n",
    "    - Defining a function \n",
    "    - Passing Arguments\n",
    "    - Return values\n",
    "    - Passing a list\n",
    "    - Passing an arbitrary number of arguments \n",
    "    - Storing your functions in Modules, styling functions.\n",
    "- Lambda Expressions\n",
    "- Time and DateTime in Python \n"
   ]
  },
  {
   "cell_type": "markdown",
   "metadata": {},
   "source": [
    "### Functions"
   ]
  },
  {
   "cell_type": "markdown",
   "metadata": {},
   "source": [
    "#### Defining a Function: Syntax\n",
    "def <function_name>(optional paramenters/input(s)):\n",
    "    \n",
    "    statement1\n",
    "    statement2\n",
    "        :\n",
    "        :\n",
    "    statementn"
   ]
  },
  {
   "cell_type": "code",
   "execution_count": 14,
   "metadata": {},
   "outputs": [
    {
     "name": "stdout",
     "output_type": "stream",
     "text": [
      "Hello Stranger\n",
      "This is a python function\n"
     ]
    }
   ],
   "source": [
    "def func1():\n",
    "    print('This is a python function')\n",
    "    \n",
    "#Optional input\n",
    "def greet():\n",
    "    print('Hello Stranger')\n",
    "\n",
    "#Function call\n",
    "greet()\n",
    "func1()\n"
   ]
  },
  {
   "cell_type": "markdown",
   "metadata": {},
   "source": [
    "#### Passing Arguments"
   ]
  },
  {
   "cell_type": "code",
   "execution_count": 1,
   "metadata": {},
   "outputs": [
    {
     "name": "stdout",
     "output_type": "stream",
     "text": [
      "Hello Stranger\n",
      "Hello  Jane\n",
      "Hello  Alex\n",
      "What's up bro? Good to see you,  Alex\n",
      "Hello lady, how are you doing Jane?\n"
     ]
    }
   ],
   "source": [
    "#One input\n",
    "def greet1(name):\n",
    "    print('Hello ', name)\n",
    "    \n",
    "\n",
    "#Function call\n",
    "greet1('Jane')\n",
    "greet1('Alex')\n",
    "\n",
    "\n",
    "#Function to greet a person with an identified gender\n",
    "def greet2(name, gender):\n",
    "    if gender in ['Male', 'M', 'm', 'male', 'MALE']:\n",
    "        print(\"What's up bro? Good to see you, \", name)\n",
    "    else:\n",
    "        print('Hello lady, how are you doing %s?' %name)\n",
    "        \n",
    "greet2('Alex', 'm')\n",
    "greet2('Jane', 'f')"
   ]
  },
  {
   "cell_type": "code",
   "execution_count": 45,
   "metadata": {},
   "outputs": [
    {
     "name": "stdout",
     "output_type": "stream",
     "text": [
      "Hello Folu, How are you?\n",
      "Hello Folu, Good morning!\n",
      "Hello , Good morning!\n"
     ]
    }
   ],
   "source": [
    "# Python functions can also have default arguments which can be changed if the user inputs another, or retained if not\n",
    "\n",
    "def greet(name, msg = 'Good morning!'):\n",
    "    '''\n",
    "    This function greets a person with the user's greeting\n",
    "    If a greeting is not provided, it reverts to greeting\n",
    "    the person with the default message, Good morning\n",
    "    Inputs: name, mmessage (optional)\n",
    "    output: Print statement greeting user\n",
    "    '''\n",
    "    print('Hello %s, %s' %(name, msg))\n",
    "    \n",
    "greet('Folu', 'How are you?')\n",
    "greet('Folu')"
   ]
  },
  {
   "cell_type": "code",
   "execution_count": 46,
   "metadata": {
    "scrolled": true
   },
   "outputs": [
    {
     "name": "stdout",
     "output_type": "stream",
     "text": [
      "Hello , Good morning!\n"
     ]
    }
   ],
   "source": [
    "def greet(name = '', msg = 'Good morning!'):\n",
    "    '''\n",
    "    This is an extention of the greet function from above,\n",
    "    to permit the user call the function without any input\n",
    "    Inputs: name(optional), mmessage (optional)\n",
    "    output: Print statement greeting user\n",
    "    '''\n",
    "    print('Hello %s, %s' %(name, msg))\n",
    "greet()"
   ]
  },
  {
   "cell_type": "markdown",
   "metadata": {},
   "source": [
    "#### Passing an arbitrary number of arguments "
   ]
  },
  {
   "cell_type": "code",
   "execution_count": 50,
   "metadata": {},
   "outputs": [
    {
     "name": "stdout",
     "output_type": "stream",
     "text": [
      "Hello John\n",
      "Wait to see what it prints when given more names...\n",
      "Hello Monica\n",
      "Hello Luke\n",
      "Hello Steve\n",
      "Hello John\n"
     ]
    }
   ],
   "source": [
    "# Python functions also allow arbitrary arguments, where the function allows the user input more input but of the same type\n",
    "def greet(*names):\n",
    "    '''\n",
    "   This function greets all\n",
    "   the person in the names tuple\n",
    "   input: name(s)\n",
    "   output: Greeting to the respective name(s)\n",
    "   '''\n",
    "   # names is a tuple with arguments\n",
    "    for name in names:\n",
    "        print(\"Hello\",name)\n",
    "\n",
    "greet('John')\n",
    "print('Wait to see what it prints when given more names...')\n",
    "time.sleep(3)\n",
    "greet(\"Monica\",\"Luke\",\"Steve\",\"John\")"
   ]
  },
  {
   "cell_type": "markdown",
   "metadata": {},
   "source": [
    "#### Function variables\n",
    "- Global variables\n",
    "- Local variables <br>\n",
    "Before we go too deep into functions, it is important to note that variables used in functions STAY in the function unless they are declared as global variables in the function. This is because they are local to the function; hence, called local variables.\n",
    "However, variables used outside a function, can be used in a function within the same script because they are seen as global variables"
   ]
  },
  {
   "cell_type": "code",
   "execution_count": 72,
   "metadata": {},
   "outputs": [
    {
     "name": "stdout",
     "output_type": "stream",
     "text": [
      "100\n"
     ]
    },
    {
     "ename": "NameError",
     "evalue": "name 'c' is not defined",
     "output_type": "error",
     "traceback": [
      "\u001b[1;31m---------------------------------------------------------------------------\u001b[0m",
      "\u001b[1;31mNameError\u001b[0m                                 Traceback (most recent call last)",
      "\u001b[1;32m<ipython-input-72-724580b4db50>\u001b[0m in \u001b[0;36m<module>\u001b[1;34m()\u001b[0m\n\u001b[0;32m     10\u001b[0m \u001b[1;33m\u001b[0m\u001b[0m\n\u001b[0;32m     11\u001b[0m \u001b[1;31m# c is declared in the function, but not returned, so it will not be seen outside the function\u001b[0m\u001b[1;33m\u001b[0m\u001b[1;33m\u001b[0m\u001b[0m\n\u001b[1;32m---> 12\u001b[1;33m \u001b[0mprint\u001b[0m\u001b[1;33m(\u001b[0m\u001b[0mc\u001b[0m\u001b[1;33m)\u001b[0m\u001b[1;33m\u001b[0m\u001b[0m\n\u001b[0m\u001b[0;32m     13\u001b[0m \u001b[1;33m\u001b[0m\u001b[0m\n\u001b[0;32m     14\u001b[0m \u001b[0mprint\u001b[0m\u001b[1;33m(\u001b[0m\u001b[1;34m'..................How then do we return local variables so they are reusable outside the function?.....................'\u001b[0m\u001b[1;33m)\u001b[0m\u001b[1;33m\u001b[0m\u001b[0m\n",
      "\u001b[1;31mNameError\u001b[0m: name 'c' is not defined"
     ]
    }
   ],
   "source": [
    "# Variables declared outside the function\n",
    "a = 8\n",
    "b = 12\n",
    "\n",
    "def association():\n",
    "    c = 5\n",
    "    print((a + b)*c)\n",
    "    \n",
    "association()\n",
    "\n",
    "# c is declared in the function, but not returned, so it will not be seen outside the function\n",
    "print(c)"
   ]
  },
  {
   "cell_type": "markdown",
   "metadata": {},
   "source": [
    "#### Making Local Variables Reusable Outside the Function"
   ]
  },
  {
   "cell_type": "code",
   "execution_count": 17,
   "metadata": {},
   "outputs": [
    {
     "name": "stdout",
     "output_type": "stream",
     "text": [
      "The square of 2 is 4, and the cube of 2 is 8\n",
      "Using local variables outside the function.......\n",
      "  4 + 8 is 12\n"
     ]
    }
   ],
   "source": [
    "def mul(a):\n",
    "    '''\n",
    "    This function gives the multiples of a number \n",
    "    Input: Number\n",
    "    Output: Number^2, Number^3\n",
    "    '''\n",
    "    global a_square\n",
    "    global a_cube\n",
    "    a_square = a**2\n",
    "    a_cube = a**3\n",
    "    print('The square of %d is %d, and the cube of %d is %d' %(a, a_square, a, a_cube))\n",
    "    #return a_square\n",
    "\n",
    "mul(2)\n",
    "\n",
    "print('Using local variables outside the function.......\\n ', a_square , '+', + a_cube, 'is', a_square + a_cube)\n"
   ]
  },
  {
   "cell_type": "code",
   "execution_count": null,
   "metadata": {},
   "outputs": [],
   "source": [
    "def area_circle(radius):\n",
    "    '''\n",
    "    This function calculates the area of a circle given its radius\n",
    "    input: Radius of the circle\n",
    "    Output: Area of the circle\n",
    "    '''\n",
    "    import math\n",
    "    area = math.pi * radius**2\n",
    "    print('The area of a circle with radius %fcm is %fcm2' %(radius, area))\n",
    "area_circle(23)"
   ]
  },
  {
   "cell_type": "code",
   "execution_count": 29,
   "metadata": {},
   "outputs": [],
   "source": [
    "def add(a, b):\n",
    "    '''\n",
    "    This function adds two given numbers\n",
    "    inputs: number1, number2\n",
    "    output: A print statement of the addition of the inputs\n",
    "    '''\n",
    "    print(a+b)"
   ]
  },
  {
   "cell_type": "code",
   "execution_count": 30,
   "metadata": {},
   "outputs": [
    {
     "name": "stdout",
     "output_type": "stream",
     "text": [
      "10\n"
     ]
    }
   ],
   "source": [
    "add(4, 6)"
   ]
  },
  {
   "cell_type": "code",
   "execution_count": 33,
   "metadata": {},
   "outputs": [],
   "source": [
    "our_dict = {'boys':34, 'girls':50, 'year':2019, 'set':'noon'}"
   ]
  },
  {
   "cell_type": "code",
   "execution_count": 34,
   "metadata": {},
   "outputs": [
    {
     "name": "stdout",
     "output_type": "stream",
     "text": [
      "boys\n",
      "girls\n",
      "year\n",
      "set\n"
     ]
    }
   ],
   "source": [
    "for x in our_dict.keys():\n",
    "    print(x)"
   ]
  },
  {
   "cell_type": "code",
   "execution_count": null,
   "metadata": {},
   "outputs": [],
   "source": [
    "def getitem(money, item):\n",
    "    '''\n",
    "    This function performs the basic operations of a vending machine\n",
    "    Input arguments: Money, item to be purchased\n",
    "    Output: Item purchased and balance \n",
    "    Conditions addressed: Insufficient fund, excess fund, enough fund\n",
    "    '''\n",
    "    item_dict = {'coke':100, 'bread':200, 'chips':50, 'gala':50, 'water':50}\n",
    "    if money == item_dict[item]:\n",
    "        print('Enjoy your %s' %item)\n",
    "    elif money > item_dict[item]:\n",
    "        print('Enjoy your %s, your balance is %d' %(item, money - item_dict[item]))\n",
    "        resp = input('would you like to purchase another item? Yes(y), No(n)')\n",
    "        if resp.lower() == 'y':\n",
    "            balance = money - item_dict[item]\n",
    "            item = input('What would you like now?')\n",
    "            if balance == item_dict[item]:\n",
    "                print('Enjoy your %s, and have a great day' %item)\n",
    "            elif balance>= item_dict[item]:\n",
    "                print('Enjoy your %s, and have your balance of %d' %(item, balance - item_dict[item]))\n",
    "        else:\n",
    "            print('Thank you for your patronage. Have a nice day')\n",
    "    else:\n",
    "        print(\"Sorry, you don't have enough money for the item\")\n",
    "        "
   ]
  },
  {
   "cell_type": "code",
   "execution_count": null,
   "metadata": {},
   "outputs": [],
   "source": [
    "getitem(500, 'bread')"
   ]
  },
  {
   "cell_type": "markdown",
   "metadata": {},
   "source": [
    "#### More on functions:"
   ]
  },
  {
   "cell_type": "markdown",
   "metadata": {},
   "source": [
    "### Lambda functions\n",
    "Python also allows the creation of anonymous functions<br>\n",
    "Lambda functions can have any number of arguments, but only one expression.\n",
    "This function is used when we need a nameless function for a short period of time."
   ]
  },
  {
   "cell_type": "code",
   "execution_count": 67,
   "metadata": {},
   "outputs": [
    {
     "name": "stdout",
     "output_type": "stream",
     "text": [
      "10\n",
      "...................................Now to the combination of filter and lambda....................................\n",
      "[4, 6, 8, 12]\n"
     ]
    }
   ],
   "source": [
    "# An anonymous function to double the given number\n",
    "double = lambda x: x * 2\n",
    "print(double(5))\n",
    "\n",
    "'''The lambda function can be used with an in-built python function called filter\n",
    "The filter function takes in a function and a list as arguments,\n",
    "and returns a new list which contains items (from the first list) for which the function conditions are True\n",
    "'''\n",
    "\n",
    "print('...................................Now to the combination of filter and lambda....................................')\n",
    "time.sleep(4)\n",
    "# Program to filter out only the even items from a list\n",
    "my_list = [1, 5, 4, 6, 8, 11, 3, 12]\n",
    "\n",
    "new_list = list(filter(lambda x: (x%2 == 0) , my_list))\n",
    "\n",
    "# Output: [4, 6, 8, 12]\n",
    "print(new_list)"
   ]
  },
  {
   "cell_type": "code",
   "execution_count": null,
   "metadata": {},
   "outputs": [],
   "source": []
  },
  {
   "cell_type": "code",
   "execution_count": null,
   "metadata": {},
   "outputs": [],
   "source": []
  },
  {
   "cell_type": "markdown",
   "metadata": {},
   "source": [
    "### Modules\n",
    "A module is a compilation of (often similar) functions under a general name. \n",
    "For instance; \n",
    "- a function that calculates the area and circumference of a circle called circle(area/circumference, radius)\n",
    "- another function calculates the area and perimeter of a rectangle called rect(area/perimeter, length, breadth)\n",
    "- another function calculates the area and perimeter of a triangle called triangle(area/perimeter, side1, side2, side3)<br>\n",
    "These 3 functions can be stored in a module called plane_shapes, so that when we need to use the circle function, we simple:<br>\n",
    "import plane_shapes:<br>\n",
    "plane_shapes.circle(circumference, radius)<br>\n",
    "and we get the circumference of the said circle.<br><br>\n",
    "\n",
    "Alternatively, we could use the from keyword;<br>\n",
    "from plane_shapes import circle:<br>\n",
    "circle(circumference, radius)<br>\n",
    "And the above gives the same result"
   ]
  },
  {
   "cell_type": "code",
   "execution_count": null,
   "metadata": {},
   "outputs": [],
   "source": [
    "import time\n",
    "import calendar\n",
    "ticks = time.time()\n",
    "\n",
    "from time import localtime\n",
    "todaytime = localtime(time.time())\n",
    "more_readable_time = time.asctime(time.localtime(time.time()))\n",
    "time.sleep(30)\n",
    "cal = calendar.month(1900, 2)\n",
    "print(cal)\n",
    "\n",
    "print('Number of ticks since 1970: ', ticks)\n",
    "print('The time is: ', todaytime)\n",
    "print('A better version of the time is: ', more_readable_time)"
   ]
  },
  {
   "cell_type": "code",
   "execution_count": 28,
   "metadata": {},
   "outputs": [
    {
     "name": "stdout",
     "output_type": "stream",
     "text": [
      "2020-05-04 00:00:00\n",
      "2019-07-24 15:26:40.680785\n",
      "Wednesday\n"
     ]
    }
   ],
   "source": [
    "import datetime # This is another module used for date and time with some of its methods listed below\n",
    "x = datetime.datetime(2020, 5, 4)\n",
    "print(x)\n",
    "time.sleep(5)\n",
    "x = datetime.datetime.now()\n",
    "print(x)\n",
    "time.sleep(3)\n",
    "print(x.strftime('%A'))\n",
    "'''\n",
    "%a... weekday in short form\n",
    "%A... weekday in full\n",
    "%w... weekday as a number\n",
    "%d... Day of the month\n",
    "%b... Month name in short\n",
    "%B... Month in full\n",
    "%m... Month as a number\n",
    "%y... Year in short\n",
    "%Y... Year in full\n",
    "%H... Hour in 24-hr format\n",
    "%I... Hour in 12-hr format\n",
    "%p... am or pm\n",
    "%M... Minute\n",
    "%S... Second\n",
    "%f... Microsecond\n",
    "%Z... timezone\n",
    "%j... day number of year\n",
    "%U... week number of year with Sunday as first day of the week\n",
    "%W... week number of year with Monday as first day of the week\n",
    "%c... Local version of date and time\n",
    "%x... Local version of date\n",
    "%X... Local version of time\n",
    "'''\n"
   ]
  },
  {
   "cell_type": "code",
   "execution_count": 34,
   "metadata": {},
   "outputs": [
    {
     "name": "stdout",
     "output_type": "stream",
     "text": [
      "The multiples of 2 from 0 to 3 is: [1, 2, 4]\n"
     ]
    },
    {
     "ename": "NameError",
     "evalue": "name 'a' is not defined",
     "output_type": "error",
     "traceback": [
      "\u001b[1;31m---------------------------------------------------------------------------\u001b[0m",
      "\u001b[1;31mNameError\u001b[0m                                 Traceback (most recent call last)",
      "\u001b[1;32m<ipython-input-34-cfd800e74065>\u001b[0m in \u001b[0;36m<module>\u001b[1;34m\u001b[0m\n\u001b[0;32m     15\u001b[0m \u001b[0mmult\u001b[0m\u001b[1;33m(\u001b[0m\u001b[1;36m2\u001b[0m\u001b[1;33m,\u001b[0m\u001b[1;36m3\u001b[0m\u001b[1;33m)\u001b[0m\u001b[1;33m\u001b[0m\u001b[1;33m\u001b[0m\u001b[0m\n\u001b[0;32m     16\u001b[0m \u001b[1;33m\u001b[0m\u001b[0m\n\u001b[1;32m---> 17\u001b[1;33m \u001b[0mprint\u001b[0m\u001b[1;33m(\u001b[0m\u001b[1;34m'Using local variables outside the function.......\\n multiples of {} between 0 and {} is {}'\u001b[0m\u001b[1;33m,\u001b[0m\u001b[0mformat\u001b[0m\u001b[1;33m(\u001b[0m\u001b[0ma\u001b[0m\u001b[1;33m,\u001b[0m \u001b[0ma_range\u001b[0m\u001b[1;33m)\u001b[0m\u001b[1;33m,\u001b[0m \u001b[0ma_mult\u001b[0m\u001b[1;33m)\u001b[0m\u001b[1;33m\u001b[0m\u001b[1;33m\u001b[0m\u001b[0m\n\u001b[0m",
      "\u001b[1;31mNameError\u001b[0m: name 'a' is not defined"
     ]
    }
   ],
   "source": [
    "def mult(a, a_range):\n",
    "    '''\n",
    "    This function gives the multiples of a number between a particular range\n",
    "    Input: Number\n",
    "    Output: Number^0, Number^1, Number^2, Number^a_range\n",
    "    '''\n",
    "    global a_mult\n",
    "    a_mult = []\n",
    "        \n",
    "    for i in range(a_range):\n",
    "        a_mult.append(a**i)\n",
    "    print('The multiples of %d from 0 to %d is:' %(a, a_range), a_mult)\n",
    "        #return a_square\n",
    "\n",
    "mult(2,3)\n",
    "\n",
    "print('Using local variables outside the function.......\\n multiples of {} between 0 and {} is {}',format(a, a_range), a_mult)\n"
   ]
  },
  {
   "cell_type": "markdown",
   "metadata": {},
   "source": [
    "#### This week's assignment is to convert as many exercises as possible to functions"
   ]
  },
  {
   "cell_type": "markdown",
   "metadata": {},
   "source": [
    "### Remember, daily practice is key to your progress. Have fun!"
   ]
  },
  {
   "cell_type": "code",
   "execution_count": null,
   "metadata": {},
   "outputs": [],
   "source": []
  }
 ],
 "metadata": {
  "kernelspec": {
   "display_name": "Python 3",
   "language": "python",
   "name": "python3"
  },
  "language_info": {
   "codemirror_mode": {
    "name": "ipython",
    "version": 3
   },
   "file_extension": ".py",
   "mimetype": "text/x-python",
   "name": "python",
   "nbconvert_exporter": "python",
   "pygments_lexer": "ipython3",
   "version": "3.7.4"
  }
 },
 "nbformat": 4,
 "nbformat_minor": 2
}
