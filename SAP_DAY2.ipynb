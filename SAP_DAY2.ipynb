{
  "nbformat": 4,
  "nbformat_minor": 0,
  "metadata": {
    "colab": {
      "name": "SAP DAY2.ipynb",
      "provenance": [],
      "collapsed_sections": [],
      "toc_visible": true
    },
    "kernelspec": {
      "name": "python3",
      "display_name": "Python 3"
    }
  },
  "cells": [
    {
      "cell_type": "markdown",
      "metadata": {
        "id": "vTl2feu9NaiC",
        "colab_type": "text"
      },
      "source": [
        "### Welcome Back\n",
        "\n",
        "Quick refresher \n",
        "By now, your are expected to be conversant with how to :\n",
        "- print hello world \n",
        "- create a variable named my_name and assign the your name to it\n",
        "- Get the length of the user's name using the function len()\n",
        "- Convert your name to all lower case using my_name.lower()\n",
        "- convert your name to all upper case\n",
        "- Write a program to check a user's age; if age is less than 20, print you're lucky to be here, if age is between 20 and 25, print make good use of this opportunity, if age is above 25, print You are welcome, here?\n",
        "\n",
        "You can try implementing the following to hone your skill\n",
        "- Write a programme to comment on how interesting a football match was;\n",
        " - If no goals were scored, Python should say “the game was a bore draw!”\n",
        " - 1-2 goals: “Not the most interesting game\"\n",
        " - 3-5 goals: “It was a very interesting game”\n",
        " - 6+ goals: “The football match was an unmissable game!”\n",
        "\n",
        "- Write a program to calculate the square of a number if the number is greater than zero\n",
        "- Reproduce this calculator output:\n",
        " - Welcome to our calculator\n",
        " - Enter the first number: \n",
        " - Enter the second number: \n",
        " - Choose one of the following operations:\n",
        " - 1 - addition\n",
        " - 2 - subtraction\n",
        " - 3 - multiplication\n",
        " - 4 - division\n",
        " - result: \n",
        " - Thank you for using our calculator."
      ]
    },
    {
      "cell_type": "code",
      "metadata": {
        "id": "fYmHvwSxMa9v",
        "colab_type": "code",
        "outputId": "4b1f84b1-e07f-4357-f2a6-06dfc3049575",
        "colab": {
          "base_uri": "https://localhost:8080/",
          "height": 50
        }
      },
      "source": [
        "'''\n",
        "Write a programme to comment on how interesting a football match was;\n",
        "If no goals were scored, Python should say “the game was a bore draw!”\n",
        "1-2 goals: “Not the most interesting game\"\n",
        "3-5 goals: “It was a very interesting game”\n",
        "6+ goals: “The football match was an unmissable game!”\n",
        "'''\n",
        "goals_scored = input('How many goals were scored in the last match? ')\n",
        "goals_scored = int(goals_scored)                  # To convert user input to an integer\n",
        "if goals_scored < 0:                         # To check for invalid age input\n",
        "    print('You have entered an invalid scores')\n",
        "elif goals_scored  == 0:\n",
        "    print('The game was a bore draw')\n",
        "elif goals_scored <=2:\n",
        "    print('Not the most interesting game')\n",
        "elif goals_scored <=5:\n",
        "    print('It was a very interesting game')\n",
        "else:                                    # This condition considers every other age bracket not included\n",
        "    print('The football match was an unmissable game!')"
      ],
      "execution_count": 0,
      "outputs": [
        {
          "output_type": "stream",
          "text": [
            "How many goals were scored in the last match? 3\n",
            "It was a very interesting game\n"
          ],
          "name": "stdout"
        }
      ]
    },
    {
      "cell_type": "code",
      "metadata": {
        "id": "EZ_UIElCo7MQ",
        "colab_type": "code",
        "colab": {}
      },
      "source": [
        ""
      ],
      "execution_count": 0,
      "outputs": []
    },
    {
      "cell_type": "markdown",
      "metadata": {
        "id": "awvaRAtjnwMW",
        "colab_type": "text"
      },
      "source": [
        "## Class activity\n",
        "Using a for loop, find the average of the following numbers:\n",
        "- 1, 2, 3, 4, 5, 6, 7, 7"
      ]
    },
    {
      "cell_type": "code",
      "metadata": {
        "id": "qf45Jo0OnwMX",
        "colab_type": "code",
        "outputId": "18e66279-7f01-4c1c-d048-bfb6ec4cf705",
        "colab": {}
      },
      "source": [
        "# Solution 1\n",
        "add=0\n",
        "add=int(add)\n",
        "values = [1, 2,3,4,5,6,7,7]\n",
        "for i in values:\n",
        "    i = int(i)\n",
        "    add = add + i\n",
        "ln =len(values)\n",
        "average = add/ln\n",
        "print(average)"
      ],
      "execution_count": 0,
      "outputs": [
        {
          "output_type": "stream",
          "text": [
            "4.375\n"
          ],
          "name": "stdout"
        }
      ]
    },
    {
      "cell_type": "code",
      "metadata": {
        "id": "B1a8zLX2nwMa",
        "colab_type": "code",
        "outputId": "7a512a45-74c3-4957-f42f-d2ffd9e187e7",
        "colab": {}
      },
      "source": [
        "# Solution 2\n",
        "numbers = [1, 2, 3, 4, 5, 6, 7, 7]\n",
        "numbers_sum, length_of_list = 0, 0\n",
        "for i in numbers:\n",
        "    numbers_sum = numbers_sum + i\n",
        "    length_of_list = length_of_list + 1\n",
        "average = numbers_sum / length_of_list\n",
        "print(average)"
      ],
      "execution_count": 0,
      "outputs": [
        {
          "output_type": "stream",
          "text": [
            "4.375\n"
          ],
          "name": "stdout"
        }
      ]
    },
    {
      "cell_type": "code",
      "metadata": {
        "id": "CQL3OAeLnwMe",
        "colab_type": "code",
        "outputId": "05828657-c76b-44e2-8d8e-1c5c580f98b1",
        "colab": {}
      },
      "source": [
        "# Solution 3 - without for loop\n",
        "a = list((1, 2,3,4,5,6,7,7))\n",
        "average = (sum(a)/len(a))\n",
        "print(average)"
      ],
      "execution_count": 0,
      "outputs": [
        {
          "output_type": "stream",
          "text": [
            "4.375\n"
          ],
          "name": "stdout"
        }
      ]
    },
    {
      "cell_type": "code",
      "metadata": {
        "id": "iSqB0h9knwMi",
        "colab_type": "code",
        "outputId": "1b3ca964-6449-4bc4-ae12-d3f629b04c09",
        "colab": {}
      },
      "source": [
        "# Short code to countdown from 10 to 1 using a while loop\n",
        "a = 10\n",
        "while a > 0:\n",
        "    print(a)\n",
        "    a = a - 1\n"
      ],
      "execution_count": 0,
      "outputs": [
        {
          "output_type": "stream",
          "text": [
            "10\n",
            "9\n",
            "8\n",
            "7\n",
            "6\n",
            "5\n",
            "4\n",
            "3\n",
            "2\n",
            "1\n"
          ],
          "name": "stdout"
        }
      ]
    },
    {
      "cell_type": "code",
      "metadata": {
        "id": "rInF0AgvnwMp",
        "colab_type": "code",
        "outputId": "f4b19a3b-e84b-42bf-d1a2-9bd372f9e8e4",
        "colab": {
          "base_uri": "https://localhost:8080/",
          "height": 87
        }
      },
      "source": [
        "'''Another example utilizing while loops\n",
        "This program starts printing from i's current value (1), \n",
        "and continues printing until it reaches 3 where it stops\n",
        "'''\n",
        "i = 0\n",
        "while i < 6:\n",
        "    print(i)\n",
        "    if i == 3:\n",
        "        break\n",
        "    i = i + 1"
      ],
      "execution_count": 0,
      "outputs": [
        {
          "output_type": "stream",
          "text": [
            "0\n",
            "1\n",
            "2\n",
            "3\n"
          ],
          "name": "stdout"
        }
      ]
    },
    {
      "cell_type": "code",
      "metadata": {
        "id": "6USjw8u6nwMs",
        "colab_type": "code",
        "outputId": "f5830771-d96b-43d7-fe9a-1d879bb08fed",
        "colab": {}
      },
      "source": [
        "'''\n",
        "Yet another while example\n",
        "This program prints after an increment of 1, skips the print statement at i=3\n",
        "and continues at the next number (4) till the while condition is met\n",
        "'''\n",
        "i = 0\n",
        "while i< 10:\n",
        "    i = i + 1\n",
        "    if i == 3:\n",
        "        continue\n",
        "    print(i, end = ',')"
      ],
      "execution_count": 0,
      "outputs": [
        {
          "output_type": "stream",
          "text": [
            "1,2,4,5,6,7,8,9,10,"
          ],
          "name": "stdout"
        }
      ]
    },
    {
      "cell_type": "code",
      "metadata": {
        "id": "i-7Ri3knnwMw",
        "colab_type": "code",
        "outputId": "0ad2550d-c7b1-4d02-e146-2a753544c2d4",
        "colab": {}
      },
      "source": [
        "'''\n",
        "Another while loop\n",
        "This program shows multiples of 5\n",
        "'''\n",
        "a = 5\n",
        "b = 1\n",
        "while b <= 12:\n",
        "    print('%d * %d = %d' %(a, b, a*b))\n",
        "    b = b + 1"
      ],
      "execution_count": 0,
      "outputs": [
        {
          "output_type": "stream",
          "text": [
            "5 * 1 = 5\n",
            "5 * 2 = 10\n",
            "5 * 3 = 15\n",
            "5 * 4 = 20\n",
            "5 * 5 = 25\n",
            "5 * 6 = 30\n",
            "5 * 7 = 35\n",
            "5 * 8 = 40\n",
            "5 * 9 = 45\n",
            "5 * 10 = 50\n",
            "5 * 11 = 55\n",
            "5 * 12 = 60\n"
          ],
          "name": "stdout"
        }
      ]
    },
    {
      "cell_type": "markdown",
      "metadata": {
        "colab_type": "text",
        "id": "H7W6GX0SVCkL"
      },
      "source": [
        "### Ranges : a range() is used to create a list of numbers to manipulate iteration\n",
        "Syntax : range(start, stop, step) or range(length_of_number)\n",
        "\n",
        "Write a program that prints all the numbers from 0 to 10 skipping every second digits"
      ]
    },
    {
      "cell_type": "code",
      "metadata": {
        "id": "H2Fdp_i0qZDf",
        "colab_type": "code",
        "colab": {
          "base_uri": "https://localhost:8080/",
          "height": 98
        },
        "outputId": "520324f6-3e65-4727-cc94-f9d0d895238e"
      },
      "source": [
        "for i in range(0, 10, 2):\n",
        "  print(i)\n"
      ],
      "execution_count": 14,
      "outputs": [
        {
          "output_type": "stream",
          "text": [
            "0\n",
            "2\n",
            "4\n",
            "6\n",
            "8\n"
          ],
          "name": "stdout"
        }
      ]
    },
    {
      "cell_type": "markdown",
      "metadata": {
        "id": "6HW8bMYkrIl_",
        "colab_type": "text"
      },
      "source": [
        ""
      ]
    },
    {
      "cell_type": "markdown",
      "metadata": {
        "id": "Jly4DPBUpD2C",
        "colab_type": "text"
      },
      "source": [
        "# \n",
        "### SAP Second Class 10th April, 2020\n",
        "# ..................................................................................\n"
      ]
    },
    {
      "cell_type": "markdown",
      "metadata": {
        "colab_type": "text",
        "id": "SebxCTd5Poxk"
      },
      "source": [
        "### Ranges : a range() is used to create a list of numbers to manipulate iteration\n",
        " - Syntax : range(start, stop, step) or range(length_of_number)\n",
        "\n",
        "\n",
        "\n",
        "More data types/Structure and their attributes\n",
        "- List\n",
        " - Ordered\n",
        " - Changeable\n",
        " - Indexed\n",
        " - Can have duplicate members\n",
        " - my_list = [3, 4, 2, 6, 5, 3, 3, 9]\n",
        " - my_list2 = list((4, 4, 2, 5, 7))\n",
        "- Tuple : Tuple is a collection which is ordered and unchangeable. Allows duplicate members.\n",
        " - Ordered\n",
        " - Unchangeable\n",
        " - Indexed\n",
        " - Can also have duplicate members\n",
        " - fruits = ('Mango', 'Grape', 'Pear')\n",
        " - fruits2 = tuple(('Coconut', 'Cashew', 'Cucumber'))\n",
        "- Set : Set is a collection which is unordered and unindexed. No duplicate members.\n",
        " - Unordered\n",
        " - Unindexed\n",
        " - No duplicate members\n",
        " - Cars = {'Mercedes', 'Toyota', 'Honda'}\n",
        " - Cars2 = set(('Kia', 'Ford', 'Fiat'))\n",
        "- Dictionaries : Dictionary is a collection items which are unordered, changeable and indexed. No duplicate members. Dictionary has a key: value pair\n",
        " - Unordered\n",
        " - Changeable\n",
        " - Indexed\n",
        " - Has keys and values\n",
        " - my_car = {\"brand\": \"Honda\", \"model\": \"EOD\", \"year\": 2010}"
      ]
    },
    {
      "cell_type": "code",
      "metadata": {
        "id": "_84oNxH1SJmM",
        "colab_type": "code",
        "colab": {}
      },
      "source": [
        "#List\n",
        "my_list = ['pot', 'kettle', 'spoon', 'plate']\n",
        "my_list2 = list(('pot', 'kettle', 'spoon', 'plate'))\n",
        "\n",
        "#Tuple\n",
        "fruits = ('mango', 'apple', 'orange')\n",
        "fruits2 = tuple(('mango', 'apple', 'orange'))\n",
        "\n",
        "#Set\n",
        "cars = {'mercedes', 'toyota', 'ford'}\n",
        "cars2 = set('mercedes')\n",
        "\n",
        "#Dictionary\n",
        "my_dict = {'name': 'John', 1: [2, 4, 3]} # dictionary with mixed keys\n",
        "thisdict = {\"brand\": \"Toyota\", \"model\": \"Avalon\", \"year\": 2017}"
      ],
      "execution_count": 0,
      "outputs": []
    },
    {
      "cell_type": "markdown",
      "metadata": {
        "id": "N2NZsizVs5KH",
        "colab_type": "text"
      },
      "source": [
        "### List Operations"
      ]
    },
    {
      "cell_type": "code",
      "metadata": {
        "id": "SVrcJ_IEs5t6",
        "colab_type": "code",
        "colab": {}
      },
      "source": [
        "A = [2, 'Clement', 6, 'Ope', 8, 'Ayo']\n",
        "\n",
        "#Accessing the 3rd and 4th elements of list using their index.\n",
        "print ('3rd and 4th elements using positive index', A[2:4],  '\\n')\n",
        "\n",
        "#Negative indices can also bde specified\n",
        "print ( '3rd and 4th elements using negative index', A[-3:-1]) #this produces a list\n",
        "\n",
        "\n",
        "#list concatenation\n",
        "print(A + ['Ayo', 'Peace', 14])\n",
        "\n",
        "\n",
        "\n",
        "print('Ope'in A)\n",
        "\n",
        "print('Abebe' not in A)\n",
        "\n",
        "print(2.45 in A)\n",
        "\n",
        "print ('y' in A)"
      ],
      "execution_count": 0,
      "outputs": []
    },
    {
      "cell_type": "markdown",
      "metadata": {
        "id": "jBN0SPk7UVZl",
        "colab_type": "text"
      },
      "source": [
        "### As we have in string methods, a list  data type can be also be used with the list methods some of which are:"
      ]
    },
    {
      "cell_type": "code",
      "metadata": {
        "id": "Y73R35yinwL0",
        "colab_type": "code",
        "outputId": "b266070f-2fbb-4d05-e208-d0e37c70e4cb",
        "colab": {}
      },
      "source": [
        "#METHODS\n",
        "\n",
        "my_list = ['pot', 'kettle', 'spoon', 'plate']\n",
        "\n",
        "# append: to add a new item to the end of the list\n",
        "my_list.append('knife')\n",
        "print(my_list)\n",
        "\n",
        "# extend: Add the elements of a list, to the end of the current list. \n",
        "# Unlike .append(), .extend() will unpack the  new list and add its element each to the existing one \n",
        "my_list.extend(['fork', 'flask', 'file'])\n",
        "print(my_list)\n",
        "\n",
        "# copy: Returns a copy of the list\n",
        "my_list3 = my_list.copy()\n",
        "print(my_list, my_list3)\n",
        "\n",
        "# count: Returns the number of elements with the specified value\n",
        "knife_count = my_list.count('knife')\n",
        "print(my_list, knife_count)\n",
        "\n",
        "# index: Returns the index of the first element with the specified value\n",
        "x = my_list.index('kettle')\n",
        "print(my_list, x)\n",
        "\n",
        "# insert: Adds an element at the specified position\n",
        "my_list.insert(3, 'Yam')\n",
        "print(my_list)\n",
        "\n",
        "# pop: Removes the element at the specified position or the last item if no position is given\n",
        "my_list.pop(3)\n",
        "print(my_list)\n",
        "\n",
        "# remove: Removes the first item with the specified value\n",
        "my_list.remove('fork')\n",
        "print(my_list)\n",
        "\n",
        "# reverse: Reverses the order of the list\n",
        "my_list.reverse()\n",
        "print(my_list)\n",
        "\n",
        "# sort: Sorts the list\n",
        "my_list.sort()\n",
        "print(my_list)\n",
        "\n",
        "# clear: to remove all the elements from the list\n",
        "my_list.clear()\n",
        "print(my_list)"
      ],
      "execution_count": 0,
      "outputs": [
        {
          "output_type": "execute_result",
          "data": {
            "text/plain": [
              "'cutlass'"
            ]
          },
          "metadata": {
            "tags": []
          },
          "execution_count": 10
        }
      ]
    },
    {
      "cell_type": "markdown",
      "metadata": {
        "id": "PxWUJwQ0tWHW",
        "colab_type": "text"
      },
      "source": [
        "### List Comprehensions\n",
        "List comprehensions provide a concise way to create lists. Common applications are to make new lists where each element is the result of some operations applied to each member of another sequence or iterable, or to create a subsequence of those elements that satisfy a certain condition."
      ]
    },
    {
      "cell_type": "code",
      "metadata": {
        "id": "6c-aEsg2tV1E",
        "colab_type": "code",
        "colab": {
          "base_uri": "https://localhost:8080/",
          "height": 50
        },
        "outputId": "d7768388-290a-49f2-9d71-50d3b3badd3a"
      },
      "source": [
        "#To create a list of sum of squares\n",
        "\n",
        "sum = []\n",
        "for x in range(5):\n",
        "    sum.append(x**2)\n",
        "print('output using for', sum)\n",
        "\n",
        "#The same could be written as a lis95t comprehension\n",
        "sum = [x**2 for x in range(5)]\n",
        "print ('output using list comprehension', sum)"
      ],
      "execution_count": 15,
      "outputs": [
        {
          "output_type": "stream",
          "text": [
            "output using for [0, 1, 4, 9, 16]\n",
            "output using list comprehension [0, 1, 4, 9, 16]\n"
          ],
          "name": "stdout"
        }
      ]
    },
    {
      "cell_type": "code",
      "metadata": {
        "id": "3r00RxzqtluG",
        "colab_type": "code",
        "colab": {
          "base_uri": "https://localhost:8080/",
          "height": 50
        },
        "outputId": "0d74103f-67a2-4a7c-dbf7-1829e33688ee"
      },
      "source": [
        "#Using for statement to print a number and its square as coordinates\n",
        "\n",
        "result= []\n",
        "for x in range(6):\n",
        "    result.append((x,x**2))\n",
        "print('output using for', result)\n",
        "\n",
        "#With list comprehension\n",
        "\n",
        "print('output using list comprehension', [(x, x**2) for x in range(6)])"
      ],
      "execution_count": 16,
      "outputs": [
        {
          "output_type": "stream",
          "text": [
            "output using for [(0, 0), (1, 1), (2, 4), (3, 9), (4, 16), (5, 25)]\n",
            "output using list comprehension [(0, 0), (1, 1), (2, 4), (3, 9), (4, 16), (5, 25)]\n"
          ],
          "name": "stdout"
        }
      ]
    },
    {
      "cell_type": "markdown",
      "metadata": {
        "id": "dBrmF-7gnwL4",
        "colab_type": "text"
      },
      "source": [
        "### A list of methods that can be used with the tuple data type"
      ]
    },
    {
      "cell_type": "code",
      "metadata": {
        "id": "Bujl_ltJnwL5",
        "colab_type": "code",
        "colab": {}
      },
      "source": [
        "fruits = ('mango', 'apple', 'orange', 'grape', 'pear')\n",
        "\n",
        "# count: Returns the number of times a specified value occurs in a tuple\n",
        "x = fruits.count('apple')\n",
        "print(fruits, x)\n",
        "\n",
        "# index: Searches the tuple for a specified value and returns the position of where it was found\n",
        "y = fruits.index('orange')\n",
        "print(fruits, y)"
      ],
      "execution_count": 0,
      "outputs": []
    },
    {
      "cell_type": "markdown",
      "metadata": {
        "id": "dWCbH_FunwL8",
        "colab_type": "text"
      },
      "source": [
        "### A list of methods that can be used with the set data type"
      ]
    },
    {
      "cell_type": "code",
      "metadata": {
        "id": "YhiGOdD8nwL9",
        "colab_type": "code",
        "outputId": "d0e46753-1ff1-4318-d572-8fa373bc1fec",
        "colab": {}
      },
      "source": [
        "cars = {'mercedes', 'toyota', 'ford', 'Porsche'}\n",
        "cars2 = {'mercedes', 'Nissan', 'Jaguar'}\n",
        "# add: Adds an element to the set\n",
        "cars.add('Hyundai')\n",
        "print(cars)\n",
        "\n",
        "# copy: Returns a copy of the set\n",
        "cars_copy = cars.copy()\n",
        "print(cars, cars_copy)\n",
        "\n",
        "# difference: Returns a set containing the difference between two or more sets\n",
        "car_diff = cars.difference(cars2)\n",
        "print(cars, cars2, car_diff)\n",
        "\n",
        "# difference_update: Removes the items in this set that are also included in another, specified set\n",
        "cars.difference_update(cars2)\n",
        "print(cars, cars2)\n",
        "\n",
        "# discard: Remove the specified item\n",
        "cars2.discard('Nissan')\n",
        "print(cars2)\n",
        "\n",
        "# intersection: Returns a set, that is the intersection of two other sets\n",
        "cars_intersect = cars.intersection(cars2)\n",
        "print(cars, cars2, cars_intersect)\n",
        "\n",
        "# intersection_update: Removes the items in this set that are not present in other, specified set(s)\n",
        "cars_copy.intersection_update(cars2)\n",
        "print(cars_copy, cars2)\n",
        "\n",
        "# isdisjoint: Returns whether two sets have a intersection or not\n",
        "disj = cars.isdisjoint(cars2)\n",
        "print(cars, cars2, disj)\n",
        "\n",
        "# issubset: Returns whether another set contains this set or not\n",
        "x = {'a', 'b', 'c'}\n",
        "y = {'a', 'b', 'c', 'd', 'e', 'f'}\n",
        "z = x.issubset(y)\n",
        "print(x, y, z)\n",
        "\n",
        "# issuperset: Returns whether this set contains another set or not\n",
        "z = y.issuperset(x)\n",
        "print(x, y, z)\n",
        "\n",
        "# pop: Removes an element from the set\n",
        "y.pop()\n",
        "print(y)\n",
        "\n",
        "# remove: Removes the specified element\n",
        "y.remove('c')\n",
        "print(y)\n",
        "\n",
        "# symmetric_difference: Returns a set with the symmetric differences of two sets\n",
        "sym_diff = cars.symmetric_difference(cars2)\n",
        "print(cars, cars2, sym_diff)\n",
        "\n",
        "# symmetric_difference_update: inserts the symmetric differences from this set and another\n",
        "cars.symmetric_difference_update(cars2)\n",
        "print(cars)\n",
        "\n",
        "# union: Return a set containing the union of sets\n",
        "bigcars = cars.union(cars2)\n",
        "print(cars, cars2, bigcars)\n",
        "\n",
        "# update: Update the set with the union of this set and others\n",
        "cars.update(cars2)\n",
        "print(cars, cars2)\n",
        "\n",
        "# clear: Removes all the elements from the set\n",
        "cars.clear()\n",
        "print(cars)"
      ],
      "execution_count": 0,
      "outputs": [
        {
          "output_type": "stream",
          "text": [
            "{'ford', 'mercedes', 'toyota', 'Hyundai', 'Porsche'}\n",
            "{'ford', 'mercedes', 'toyota', 'Hyundai', 'Porsche'} {'ford', 'mercedes', 'Porsche', 'toyota', 'Hyundai'}\n",
            "{'ford', 'mercedes', 'toyota', 'Hyundai', 'Porsche'} {'mercedes', 'Jaguar', 'Nissan'} {'Porsche', 'ford', 'toyota', 'Hyundai'}\n",
            "{'ford', 'toyota', 'Hyundai', 'Porsche'} {'mercedes', 'Jaguar', 'Nissan'}\n",
            "{'mercedes', 'Jaguar'}\n",
            "{'ford', 'toyota', 'Hyundai', 'Porsche'} {'mercedes', 'Jaguar'} set()\n",
            "{'mercedes'} {'mercedes', 'Jaguar'}\n",
            "{'ford', 'toyota', 'Hyundai', 'Porsche'} {'mercedes', 'Jaguar'} True\n",
            "{'b', 'c', 'a'} {'d', 'f', 'c', 'e', 'b', 'a'} True\n",
            "{'b', 'c', 'a'} {'d', 'f', 'c', 'e', 'b', 'a'} True\n",
            "{'f', 'c', 'e', 'b', 'a'}\n",
            "{'f', 'e', 'b', 'a'}\n",
            "{'ford', 'toyota', 'Hyundai', 'Porsche'} {'mercedes', 'Jaguar'} {'ford', 'mercedes', 'Jaguar', 'toyota', 'Hyundai', 'Porsche'}\n",
            "{'ford', 'mercedes', 'Jaguar', 'toyota', 'Hyundai', 'Porsche'}\n",
            "{'ford', 'mercedes', 'Jaguar', 'toyota', 'Hyundai', 'Porsche'} {'mercedes', 'Jaguar'} {'ford', 'mercedes', 'Jaguar', 'Porsche', 'toyota', 'Hyundai'}\n",
            "{'ford', 'mercedes', 'Jaguar', 'toyota', 'Hyundai', 'Porsche'} {'mercedes', 'Jaguar'}\n",
            "set()\n"
          ],
          "name": "stdout"
        }
      ]
    },
    {
      "cell_type": "markdown",
      "metadata": {
        "id": "tCFDhuDsnwMB",
        "colab_type": "text"
      },
      "source": [
        "### A list of methods that can be used with the dictionary data type"
      ]
    },
    {
      "cell_type": "code",
      "metadata": {
        "id": "itKOe47HnwMD",
        "colab_type": "code",
        "colab": {
          "base_uri": "https://localhost:8080/",
          "height": 228
        },
        "outputId": "afe1e353-9335-4ccd-b7f6-243eff512cff"
      },
      "source": [
        "thisdict = {\"brand\": \"Toyota\", \"model\": \"Avalon\", \"year\": 2017}\n",
        "\n",
        "# fromkeys: returns a dictionary with the specified keys and values\n",
        "x = ('key1', 'key2', 'key3')\n",
        "y = (0)       #All the keys will have the same value 0\n",
        "new_dict = dict.fromkeys(x, y)\n",
        "print(new_dict)\n",
        "\n",
        "# get: Returns the value of the specified key, if value is not fount, it returns NONE\n",
        "a = thisdict.get('model')\n",
        "\n",
        "# same output can be gotten from but if value is not found, it returns error\n",
        "b = thisdict['model']\n",
        "print(thisdict, a, b)\n",
        "\n"
      ],
      "execution_count": 9,
      "outputs": [
        {
          "output_type": "stream",
          "text": [
            "{'key1': 0, 'key2': 0, 'key3': 0}\n",
            "{'brand': 'Toyota', 'model': 'Avalon', 'year': 2017} Avalon Avalon\n",
            "{'brand': 'Toyota', 'model': 'Avalon', 'year': 2017} {'brand': 'Toyota', 'model': 'Avalon', 'year': 2017}\n",
            "{'brand': 'Toyota', 'model': 'Avalon', 'year': 2017} dict_items([('brand', 'Toyota'), ('model', 'Avalon'), ('year', 2017)])\n",
            "{'brand': 'Toyota', 'model': 'Avalon', 'year': 2017} dict_keys(['brand', 'model', 'year'])\n",
            "{'brand': 'Toyota', 'model': 'Avalon', 'year': 2017} dict_values(['Toyota', 'Avalon', 2017])\n",
            "{'brand': 'Toyota', 'model': 'Avalon', 'year': 2017}\n",
            "{'brand': 'Toyota', 'year': 2017}\n",
            "{'brand': 'Toyota'} ('year', 2017)\n",
            "{'brand': 'Toyota', 'model': 'Camry'} Camry\n",
            "{'brand': 'Toyota', 'model': 'Avalon', 'year': 2017, 'color': 'white'}\n",
            "{'brand': 'Toyota', 'model': 'Avalon', 'year': 2017, 'color': 'white'} dict_values(['Toyota', 'Avalon', 2017, 'white'])\n",
            "{}\n"
          ],
          "name": "stdout"
        }
      ]
    },
    {
      "cell_type": "code",
      "metadata": {
        "id": "oAr9N6fAmuBm",
        "colab_type": "code",
        "colab": {
          "base_uri": "https://localhost:8080/",
          "height": 196
        },
        "outputId": "081e5096-9f21-4e47-dcc7-dd959bab63e0"
      },
      "source": [
        "# copy: Returns a copy of the dictionary\n",
        "new_dict = thisdict.copy()\n",
        "print(thisdict, new_dict)\n",
        "\n",
        "# items: Returns a list containing a tuple for each key value pair\n",
        "a = thisdict.items()\n",
        "print('Dictionary', thisdict, 'items are : ', a)\n",
        "\n",
        "# keys: Returns a list containing the dictionary's keys\n",
        "a = thisdict.keys()\n",
        "print(thisdict, a)\n",
        "\n",
        "a = thisdict.values()\n",
        "print(thisdict, a)\n",
        "\n",
        "# pop: Removes the element with the specified key\n",
        "print(new_dict)\n",
        "new_dict.pop('model')\n",
        "print(new_dict)\n",
        "\n",
        "# popitem: Removes the last inserted key-value pair\n",
        "c = new_dict.popitem()\n",
        "print(new_dict, c)\n",
        "\n",
        "# setdefault: Returns the value of the specified key. If the key does not exist: insert the key, with the specified value\n",
        "x = new_dict.setdefault('model', 'Camry')\n",
        "print(new_dict, x)\n",
        "\n",
        "# update: Updates the dictionary with the specified key-value pairs\n",
        "thisdict.update({'color': 'white'})\n",
        "print(thisdict)\n",
        "\n",
        "# values: Returns a list of all the values in the dictionary\n",
        "x = thisdict.values()\n",
        "print(thisdict, x)\n",
        "\n",
        "# clear: to remove all the elements from the dictionary\n",
        "new_dict.clear()\n",
        "print(new_dict)"
      ],
      "execution_count": 12,
      "outputs": [
        {
          "output_type": "stream",
          "text": [
            "{'brand': 'Toyota', 'model': 'Avalon', 'year': 2017, 'color': 'white'} {'brand': 'Toyota', 'model': 'Avalon', 'year': 2017, 'color': 'white'}\n",
            "Dictionary {'brand': 'Toyota', 'model': 'Avalon', 'year': 2017, 'color': 'white'} items are :  dict_values(['Toyota', 'Avalon', 2017, 'white'])\n",
            "{'brand': 'Toyota', 'model': 'Avalon', 'year': 2017, 'color': 'white'} dict_keys(['brand', 'model', 'year', 'color'])\n",
            "{'brand': 'Toyota', 'model': 'Avalon', 'year': 2017, 'color': 'white'} dict_values(['Toyota', 'Avalon', 2017, 'white'])\n",
            "{'brand': 'Toyota', 'model': 'Avalon', 'year': 2017, 'color': 'white'}\n",
            "{'brand': 'Toyota', 'year': 2017, 'color': 'white'}\n",
            "{'brand': 'Toyota', 'year': 2017} ('color', 'white')\n",
            "{'brand': 'Toyota', 'year': 2017, 'model': 'Camry'} Camry\n",
            "{'brand': 'Toyota', 'model': 'Avalon', 'year': 2017, 'color': 'white'}\n",
            "{'brand': 'Toyota', 'model': 'Avalon', 'year': 2017, 'color': 'white'} dict_values(['Toyota', 'Avalon', 2017, 'white'])\n",
            "{}\n"
          ],
          "name": "stdout"
        }
      ]
    },
    {
      "cell_type": "code",
      "metadata": {
        "id": "C16Pv1zPnwML",
        "colab_type": "code",
        "colab": {}
      },
      "source": [
        "a = list((1, 2, 3, 4, 5, 6, 7, 8, 9, 10))"
      ],
      "execution_count": 0,
      "outputs": []
    },
    {
      "cell_type": "code",
      "metadata": {
        "id": "F0HlUB19nwMO",
        "colab_type": "code",
        "outputId": "38b8507a-69ba-4d7a-e1b6-0e64793dc135",
        "colab": {}
      },
      "source": [
        "for vj in a:\n",
        "    print(vj%2 == 1)"
      ],
      "execution_count": 0,
      "outputs": [
        {
          "output_type": "stream",
          "text": [
            "True\n",
            "False\n",
            "True\n",
            "False\n",
            "True\n",
            "False\n",
            "True\n",
            "False\n",
            "True\n",
            "False\n"
          ],
          "name": "stdout"
        }
      ]
    },
    {
      "cell_type": "code",
      "metadata": {
        "id": "LO1rlI2nnwMS",
        "colab_type": "code",
        "outputId": "89844d9a-96f7-4eb4-be79-3bc87a2206c7",
        "colab": {}
      },
      "source": [
        "for vj in a:\n",
        "    if vj%2 == 1:\n",
        "        print(vj)\n",
        "    \n"
      ],
      "execution_count": 0,
      "outputs": [
        {
          "output_type": "stream",
          "text": [
            "1\n",
            "3\n",
            "5\n",
            "7\n",
            "9\n"
          ],
          "name": "stdout"
        }
      ]
    }
  ]
}