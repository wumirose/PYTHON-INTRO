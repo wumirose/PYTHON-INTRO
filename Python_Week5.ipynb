{
 "cells": [
  {
   "cell_type": "markdown",
   "metadata": {
    "colab_type": "text",
    "id": "O69_FRNGvTpZ"
   },
   "source": [
    "# I**NTRODUCTORY PYTHON WEEK5**\n",
    "\n",
    "\n",
    "*    Functions in Python\n",
    "       - Defining a function, \n",
    "       - Return values\n",
    "       - Passing a list\n",
    "       - Passing arguments \n",
    "       - Passing an arbitrary number of arguments\n",
    "*   Modules and Import\n",
    "    - Storing your functions in Modules, styling               functions\n",
    "*   The standard Python library \n",
    "*   WebBrowser Module\n",
    "*   Time and DateTime in Python \n",
    "*    Tkinter"
   ]
  },
  {
   "cell_type": "markdown",
   "metadata": {
    "colab_type": "text",
    "id": "10n0sz_1xQb-"
   },
   "source": [
    "# Functions in Python\n",
    "\n",
    "A function is a block of code which only runs when it is called.\n",
    " The Syntax is \n",
    "\n",
    "\n",
    "> def  *functionname*(arguments):\n",
    "\n",
    "          Statement(s)"
   ]
  },
  {
   "cell_type": "code",
   "execution_count": 1,
   "metadata": {
    "colab": {
     "base_uri": "https://localhost:8080/",
     "height": 35
    },
    "colab_type": "code",
    "id": "FY1CED8QzGeW",
    "outputId": "c96ec50f-a8b0-43b3-e32d-3933b3a57b72"
   },
   "outputs": [],
   "source": [
    "def myfirstfunction():\n",
    "    print('This is my first function')"
   ]
  },
  {
   "cell_type": "markdown",
   "metadata": {
    "colab_type": "text",
    "id": "GAYH_ExuNmkt"
   },
   "source": [
    "## Calling a Function\n"
   ]
  },
  {
   "cell_type": "code",
   "execution_count": 2,
   "metadata": {
    "colab": {},
    "colab_type": "code",
    "id": "n98BzCLCNnpn"
   },
   "outputs": [
    {
     "name": "stdout",
     "output_type": "stream",
     "text": [
      "This is my first function\n"
     ]
    }
   ],
   "source": [
    "myfirstfunction()\n",
    "\n",
    "# This executes the statement specified in the function"
   ]
  },
  {
   "cell_type": "markdown",
   "metadata": {
    "colab_type": "text",
    "id": "0YdNfj8Zy4JR"
   },
   "source": [
    "# Passing Parameters\n",
    "Data / Information can be passed as parameters into a function.\n",
    "\n",
    "Parameters are specified inside the parentheses after the function name. Multiple parameters are separated with comma.\n",
    "\n",
    "**Parsing a value **"
   ]
  },
  {
   "cell_type": "code",
   "execution_count": 3,
   "metadata": {
    "colab": {
     "base_uri": "https://localhost:8080/",
     "height": 35
    },
    "colab_type": "code",
    "id": "vRPC6MVjvOtn",
    "outputId": "897bde14-b45b-4865-bfc6-eee72811e772"
   },
   "outputs": [
    {
     "name": "stdout",
     "output_type": "stream",
     "text": [
      "My name is John\n"
     ]
    }
   ],
   "source": [
    "def my_function(my_Name = \"John\"):\n",
    "    print(\"My name is \" + my_Name)\n",
    "  \n",
    "#Calling a Function\n",
    "my_function()"
   ]
  },
  {
   "cell_type": "markdown",
   "metadata": {
    "colab_type": "text",
    "id": "D_Tqf7eVKVTQ"
   },
   "source": [
    "## Passing a fixed number of arguments \n",
    "\n",
    "An argument is a value supplied when a function is called."
   ]
  },
  {
   "cell_type": "code",
   "execution_count": 4,
   "metadata": {
    "colab": {
     "base_uri": "https://localhost:8080/",
     "height": 35
    },
    "colab_type": "code",
    "id": "D4waq3heQhuk",
    "outputId": "b7fff1eb-3c3d-44cb-be5e-91072671f315"
   },
   "outputs": [
    {
     "name": "stdout",
     "output_type": "stream",
     "text": [
      "My name is Notebook\n"
     ]
    }
   ],
   "source": [
    "#Calling a Function on argument\n",
    "my_function(\"Notebook\")"
   ]
  },
  {
   "cell_type": "markdown",
   "metadata": {
    "colab_type": "text",
    "id": "B0AB4Ypn-Sco"
   },
   "source": [
    "##  Exercise 1"
   ]
  },
  {
   "cell_type": "code",
   "execution_count": null,
   "metadata": {
    "colab": {
     "base_uri": "https://localhost:8080/",
     "height": 397
    },
    "colab_type": "code",
    "id": "hTCb8FMs4nlk",
    "outputId": "5324ca67-7aa2-47d0-dde1-1c72674ed821"
   },
   "outputs": [],
   "source": [
    "#Insert your other names as arguments and run the cell \n",
    "\n",
    "my_function(#Your first name here#)\n",
    "    \n",
    "my_function(#Your last name here#)\n",
    "    \n",
    "    "
   ]
  },
  {
   "cell_type": "markdown",
   "metadata": {
    "colab_type": "text",
    "id": "Uzup0BsW7Vaz"
   },
   "source": [
    "**Passing an integer, List , dictionary or other data types**\n",
    "\n",
    "You can send any data types of parameter to a function (string, number, list, dictionary etc.), and it will be treated as the same data type inside the functio"
   ]
  },
  {
   "cell_type": "code",
   "execution_count": 7,
   "metadata": {
    "colab": {
     "base_uri": "https://localhost:8080/",
     "height": 35
    },
    "colab_type": "code",
    "id": "6GZ6EXT_PZ1G",
    "outputId": "68c5d64f-357b-47ae-dc6a-a31226bb4df0"
   },
   "outputs": [
    {
     "data": {
      "text/plain": [
       "9"
      ]
     },
     "execution_count": 7,
     "metadata": {},
     "output_type": "execute_result"
    }
   ],
   "source": [
    "#A python function that calculates the sqaure of integer number\n",
    "def my_function1(x):\n",
    "  X_Square = x**2\n",
    "  return (X_Square)\n",
    "\n",
    "my_function1(3)"
   ]
  },
  {
   "cell_type": "code",
   "execution_count": 8,
   "metadata": {
    "colab": {
     "base_uri": "https://localhost:8080/",
     "height": 35
    },
    "colab_type": "code",
    "id": "8fDHSvMPRk5q",
    "outputId": "4330d7ee-9845-42d1-9722-30bc2f03c54c"
   },
   "outputs": [
    {
     "data": {
      "text/plain": [
       "25"
      ]
     },
     "execution_count": 8,
     "metadata": {},
     "output_type": "execute_result"
    }
   ],
   "source": [
    "my_function1(5)"
   ]
  },
  {
   "cell_type": "code",
   "execution_count": 9,
   "metadata": {
    "colab": {
     "base_uri": "https://localhost:8080/",
     "height": 35
    },
    "colab_type": "code",
    "id": "Cu5CZt2URy0I",
    "outputId": "fc161dfb-f59a-4184-a743-4bb17c3b8190"
   },
   "outputs": [
    {
     "data": {
      "text/plain": [
       "81"
      ]
     },
     "execution_count": 9,
     "metadata": {},
     "output_type": "execute_result"
    }
   ],
   "source": [
    "my_function1(9)"
   ]
  },
  {
   "cell_type": "code",
   "execution_count": 10,
   "metadata": {
    "colab": {
     "base_uri": "https://localhost:8080/",
     "height": 91
    },
    "colab_type": "code",
    "id": "3HBJiKgT7Gjk",
    "outputId": "3896c088-321b-4f0e-fe69-831cb3daf979"
   },
   "outputs": [
    {
     "name": "stdout",
     "output_type": "stream",
     "text": [
      "Toyota\n",
      "Ford\n",
      "Honda\n"
     ]
    }
   ],
   "source": [
    "#Passing a python function that print out all cars in list of cars \n",
    "def my_function(carlist):\n",
    "    for car in carlist:\n",
    "        print(car)\n",
    "\n",
    "List_of_cars = [\"Toyota\", \"Ford\", \"Honda\"]\n",
    "\n",
    "my_function(List_of_cars)"
   ]
  },
  {
   "cell_type": "code",
   "execution_count": 11,
   "metadata": {
    "colab": {
     "base_uri": "https://localhost:8080/",
     "height": 91
    },
    "colab_type": "code",
    "id": "24F6ieNd9IDv",
    "outputId": "d0ba22c3-5c30-431d-f37b-cc7438770c5c"
   },
   "outputs": [
    {
     "name": "stdout",
     "output_type": "stream",
     "text": [
      "The Qty of Math is 4\n",
      "The Qty of English is 5\n",
      "The Qty of Pysics is 8\n"
     ]
    }
   ],
   "source": [
    "#Passing aa dictionary as a parameter\n",
    "\n",
    "def Book_Stock_func(Books):\n",
    "    for book, Quantity in Books.items():\n",
    "    \n",
    "        print(\"The Qty of {0} is {1}\".format(book, Quantity))\n",
    "\n",
    "\n",
    "    \n",
    "Dict_of_books = {\"Math\": 4, \"English\": 5 , \"Pysics\": 8}\n",
    "\n",
    "Book_Stock_func(Dict_of_books)\n"
   ]
  },
  {
   "cell_type": "markdown",
   "metadata": {
    "colab_type": "text",
    "id": "QtAe9MuY9vOF"
   },
   "source": [
    "## Exercise 2\n",
    "\n",
    "Create a function named  *Family* and pass the dictionary below:\n",
    "\n",
    "Family_Age = {\"Father\":, 50, \"Mother\": 45, \"Daughter\": 25, \"Son\":20}\n"
   ]
  },
  {
   "cell_type": "markdown",
   "metadata": {
    "colab_type": "text",
    "id": "v3AaIYStK4ur"
   },
   "source": [
    "## Passing an arbitrary number of arguments\n"
   ]
  },
  {
   "cell_type": "code",
   "execution_count": 12,
   "metadata": {
    "colab": {
     "base_uri": "https://localhost:8080/",
     "height": 35
    },
    "colab_type": "code",
    "id": "N9gKoqDMK8oh",
    "outputId": "dee1f141-2b62-4fd0-a92e-d4ea2f8a5bac"
   },
   "outputs": [
    {
     "name": "stdout",
     "output_type": "stream",
     "text": [
      "sum =  8\n"
     ]
    }
   ],
   "source": [
    "#A python function that sum up its parameters\n",
    "def adder(x,y):\n",
    "  print(\"sum = \", x+y)\n",
    "\n",
    "adder(3,5)"
   ]
  },
  {
   "cell_type": "code",
   "execution_count": 13,
   "metadata": {
    "colab": {
     "base_uri": "https://localhost:8080/",
     "height": 193
    },
    "colab_type": "code",
    "id": "kFeFHsSySkFQ",
    "outputId": "7afe2b04-f4f1-4686-d3e6-432dd6205467"
   },
   "outputs": [
    {
     "ename": "TypeError",
     "evalue": "adder() takes 2 positional arguments but 3 were given",
     "output_type": "error",
     "traceback": [
      "\u001b[1;31m---------------------------------------------------------------------------\u001b[0m",
      "\u001b[1;31mTypeError\u001b[0m                                 Traceback (most recent call last)",
      "\u001b[1;32m<ipython-input-13-ec97210b4e35>\u001b[0m in \u001b[0;36m<module>\u001b[1;34m()\u001b[0m\n\u001b[0;32m      1\u001b[0m \u001b[1;31m#Lets try and increase the number of Arguments\u001b[0m\u001b[1;33m\u001b[0m\u001b[1;33m\u001b[0m\u001b[0m\n\u001b[1;32m----> 2\u001b[1;33m \u001b[0madder\u001b[0m\u001b[1;33m(\u001b[0m\u001b[1;36m5\u001b[0m\u001b[1;33m,\u001b[0m\u001b[1;36m6\u001b[0m\u001b[1;33m,\u001b[0m\u001b[1;36m7\u001b[0m\u001b[1;33m)\u001b[0m\u001b[1;33m\u001b[0m\u001b[0m\n\u001b[0m",
      "\u001b[1;31mTypeError\u001b[0m: adder() takes 2 positional arguments but 3 were given"
     ]
    }
   ],
   "source": [
    "#Lets try and increase the number of Arguments\n",
    "adder(5,6,7)"
   ]
  },
  {
   "cell_type": "markdown",
   "metadata": {
    "colab_type": "text",
    "id": "ezAcTKUDP_iF"
   },
   "source": [
    "## To pass a numbers of arguments to a function, we use\n",
    "\n",
    "### *args\n",
    "\n",
    "For instance,"
   ]
  },
  {
   "cell_type": "code",
   "execution_count": 14,
   "metadata": {
    "colab": {},
    "colab_type": "code",
    "id": "AQ9TVnX8ZhD2"
   },
   "outputs": [
    {
     "name": "stdout",
     "output_type": "stream",
     "text": [
      "sum =  8\n",
      "sum =  61\n"
     ]
    }
   ],
   "source": [
    "def func_with_start_args(*args):\n",
    "    \"\"\"\n",
    "    This function can take in any number of arguments, including zero!\n",
    "    \"\"\"\n",
    "\n",
    "#Example\n",
    "#A python function that sum up its arguments\n",
    "\n",
    "def adder1(*numbers):\n",
    "  print(\"sum = \", sum(numbers))\n",
    "\n",
    "adder1(3,5)\n",
    "adder1(5,7,9,40)"
   ]
  },
  {
   "cell_type": "markdown",
   "metadata": {
    "colab_type": "text",
    "id": "eLnq1kGmVRVq"
   },
   "source": [
    "## Exercise 3\n",
    "\n",
    "Write a python function that multiplies its parameters"
   ]
  },
  {
   "cell_type": "markdown",
   "metadata": {
    "colab_type": "text",
    "id": "-SRjKyxfes5i"
   },
   "source": [
    "## Function Styling\n",
    "\n",
    " In order to improve code readability, certain level of consistency  must be ensured. More about function and general code styling can be found [Here](https://www.python.org/dev/peps/pep-0008/#id15)"
   ]
  },
  {
   "cell_type": "markdown",
   "metadata": {
    "colab_type": "text",
    "id": "pARoKxLDyLB-"
   },
   "source": [
    "## Modules and Import\n",
    "\n",
    "Modules in python is a file that contain numerous codes, functions, variables, classes etc for specific functionalities. Modules are named using **.py extension** , they can also be used in another program via **import statement**"
   ]
  },
  {
   "cell_type": "markdown",
   "metadata": {
    "colab_type": "text",
    "id": "7WxHDlvAiDow"
   },
   "source": [
    "## Creating a module\n",
    "\n",
    "Create a new text file, Copy this code cell into a new the file. Save the notebook as **mymodule.py**"
   ]
  },
  {
   "cell_type": "code",
   "execution_count": 16,
   "metadata": {
    "colab": {},
    "colab_type": "code",
    "id": "-KuxvSgSjXJO"
   },
   "outputs": [],
   "source": [
    "#This module has 3 functions and one dictionary\n",
    "\n",
    "#Dictionary of a persons' name, age and state\n",
    "person = {\n",
    "            \"name\": \"John\",\n",
    "            \"age\": 36,\n",
    "            \"country\": \"Norway\"\n",
    "          } \n",
    "\n",
    "#Functions to add arbitrary length of numbers\n",
    "def adder1(*numbers):\n",
    "    print(\"sum = \", sum(numbers))\n",
    "\n",
    "#Functions to multiply arbitrary length of numbers\n",
    "def Mul(*numbers):\n",
    "    prod = 1\n",
    "    for i in numbers:\n",
    "        product*=i\n",
    "    print(\"Multiplied = \", product)\n",
    "\n",
    "#Functions to print that module has ended\n",
    "def end():\n",
    "    print(\"You have reach the end of this module\")"
   ]
  },
  {
   "cell_type": "markdown",
   "metadata": {
    "colab_type": "text",
    "id": "fDrTrjGEh9_L"
   },
   "source": [
    "## Importing a Module\n",
    "\n",
    "Modules are imported using keword **import** followed their **filename**\n",
    "\n",
    ">import Module1"
   ]
  },
  {
   "cell_type": "code",
   "execution_count": 17,
   "metadata": {
    "colab": {
     "base_uri": "https://localhost:8080/",
     "height": 35
    },
    "colab_type": "code",
    "id": "BYhM5LN2sEXB",
    "outputId": "b49686ce-6505-4a8c-f393-eb11a5980382"
   },
   "outputs": [
    {
     "name": "stdout",
     "output_type": "stream",
     "text": [
      "3.141592653589793\n"
     ]
    }
   ],
   "source": [
    "#importing a built-in module\n",
    "import math \n",
    "print(math.pi)"
   ]
  },
  {
   "cell_type": "code",
   "execution_count": 18,
   "metadata": {
    "colab": {
     "base_uri": "https://localhost:8080/",
     "height": 35
    },
    "colab_type": "code",
    "id": "BYhM5LN2sEXB",
    "outputId": "b49686ce-6505-4a8c-f393-eb11a5980382"
   },
   "outputs": [],
   "source": [
    "#importing self created module\n",
    "import module"
   ]
  },
  {
   "cell_type": "markdown",
   "metadata": {
    "colab_type": "text",
    "id": "G02fPPQNdBYV"
   },
   "source": [
    "## Re-naming a Module\n",
    "\n",
    "You can create an alias when you import a module, by using the as keyword:\n",
    "\n",
    "Example\n",
    "Create an alias for module called mx:"
   ]
  },
  {
   "cell_type": "code",
   "execution_count": 20,
   "metadata": {
    "colab": {},
    "colab_type": "code",
    "id": "e50_KnpcdOyg"
   },
   "outputs": [
    {
     "data": {
      "text/plain": [
       "{'age': 36, 'country': 'Norway', 'name': 'John'}"
      ]
     },
     "execution_count": 20,
     "metadata": {},
     "output_type": "execute_result"
    }
   ],
   "source": [
    "import module as mx\n",
    "\n",
    "mx.person "
   ]
  },
  {
   "cell_type": "markdown",
   "metadata": {
    "colab_type": "text",
    "id": "k8oPNPpXljgl"
   },
   "source": [
    "## Importing objects from a module to the current workspace\n",
    "\n",
    ">from modulename import objectname\n"
   ]
  },
  {
   "cell_type": "code",
   "execution_count": 21,
   "metadata": {},
   "outputs": [
    {
     "name": "stdout",
     "output_type": "stream",
     "text": [
      "sum =  19\n"
     ]
    }
   ],
   "source": [
    "from module import adder1\n",
    "\n",
    "adder1(4,7,8)"
   ]
  },
  {
   "cell_type": "markdown",
   "metadata": {
    "colab_type": "text",
    "id": "k8oPNPpXljgl"
   },
   "source": [
    "## Importing all objects from a module to the current workspace\n",
    "\n",
    "We may also use the import * command to import all objects from a specific module"
   ]
  },
  {
   "cell_type": "code",
   "execution_count": 22,
   "metadata": {
    "colab": {
     "base_uri": "https://localhost:8080/",
     "height": 54
    },
    "colab_type": "code",
    "id": "98lL0RidIvim",
    "outputId": "8ef55171-8d67-456f-c935-762a5dce335e"
   },
   "outputs": [
    {
     "name": "stdout",
     "output_type": "stream",
     "text": [
      "3.141592653589793\n",
      "720\n"
     ]
    }
   ],
   "source": [
    "from math import *\n",
    "\n",
    "#Print the value of pi\n",
    "print(pi) \n",
    "\n",
    "#Print the value of 6!\n",
    "print(factorial(6)) "
   ]
  },
  {
   "cell_type": "code",
   "execution_count": 23,
   "metadata": {
    "colab": {
     "base_uri": "https://localhost:8080/",
     "height": 378
    },
    "colab_type": "code",
    "id": "X2xnBO4cnpbX",
    "outputId": "0b52a745-5fbb-4320-fba1-c0f8f653cca2"
   },
   "outputs": [
    {
     "name": "stdout",
     "output_type": "stream",
     "text": [
      "sum =  27\n",
      "Multiplied =  405\n"
     ]
    }
   ],
   "source": [
    "from module import *\n",
    "\n",
    "adder1(3,9,15)\n",
    "\n",
    "Mul(3,9,15)"
   ]
  },
  {
   "cell_type": "markdown",
   "metadata": {
    "colab_type": "text",
    "id": "ozdxFKmtdMrN"
   },
   "source": [
    "## The standard Python libraries \n",
    "\n",
    "These are wide range of facilities that provide access to system functionality. They provide standardized solutions for many problems that occur in everyday programming. Some of these modules are explicitly designed to encourage and enhance the portability of Python programs. \n",
    "\n",
    "For further reading, clich [Here](https://docs.python.org/3/library/) and  [Here](https://medium.com/@rinu.gour123/python-standard-library-list-of-important-libraries-200eecbcb492)\n",
    "\n",
    "In relation to data science, the frequently used libraries are:\n",
    "\n",
    "* Date and time\n",
    "* Pandas\n",
    "* Matplotlib\n",
    "* Seaborn\n",
    "* Numpy \n",
    "* Math \n",
    "* Srapy etc"
   ]
  },
  {
   "cell_type": "markdown",
   "metadata": {
    "colab_type": "text",
    "id": "PRThA2-8dbel"
   },
   "source": [
    "## Time and Date in Python\n",
    "\n",
    "Date, time and datetime classes provides a number of function to deal with dates, times and time intervals "
   ]
  },
  {
   "cell_type": "code",
   "execution_count": 24,
   "metadata": {},
   "outputs": [
    {
     "name": "stdout",
     "output_type": "stream",
     "text": [
      "Local current time : time.struct_time(tm_year=2019, tm_mon=7, tm_mday=18, tm_hour=21, tm_min=1, tm_sec=14, tm_wday=3, tm_yday=199, tm_isdst=0)\n"
     ]
    }
   ],
   "source": [
    "#Importing time library\n",
    "import time\n",
    "\n",
    "localtime = time.localtime(time.time())\n",
    "print (\"Local current time :\", localtime)"
   ]
  },
  {
   "cell_type": "code",
   "execution_count": 25,
   "metadata": {},
   "outputs": [
    {
     "name": "stdout",
     "output_type": "stream",
     "text": [
      "Here is the calendar:\n",
      "     July 2019\n",
      "Mo Tu We Th Fr Sa Su\n",
      " 1  2  3  4  5  6  7\n",
      " 8  9 10 11 12 13 14\n",
      "15 16 17 18 19 20 21\n",
      "22 23 24 25 26 27 28\n",
      "29 30 31\n",
      "\n"
     ]
    }
   ],
   "source": [
    "#To import a calender\n",
    "import calendar\n",
    "\n",
    "cal = calendar.month(2019, 7)\n",
    "print (\"Here is the calendar:\")\n",
    "print(cal)"
   ]
  },
  {
   "cell_type": "code",
   "execution_count": 26,
   "metadata": {},
   "outputs": [
    {
     "name": "stdout",
     "output_type": "stream",
     "text": [
      "2019-07-18 21:01:16.826716\n"
     ]
    }
   ],
   "source": [
    "from datetime import datetime, date\n",
    "\n",
    "\n",
    "# Getting the current time and date\n",
    "time_now = datetime.now() \n",
    "\n",
    "print(time_now)\n",
    "\n"
   ]
  },
  {
   "cell_type": "code",
   "execution_count": 27,
   "metadata": {},
   "outputs": [
    {
     "name": "stdout",
     "output_type": "stream",
     "text": [
      "21:01:17.797616\n",
      "2019-07-18\n"
     ]
    }
   ],
   "source": [
    "#Suppose we want to print just the current time without the date.0            \n",
    "t = datetime.time(datetime.now())\n",
    "print(t)\n",
    "\n",
    "from datetime import date\n",
    "# Getting the current date without time\n",
    "todays_date = date.today()\n",
    "print (todays_date)"
   ]
  },
  {
   "cell_type": "markdown",
   "metadata": {},
   "source": [
    "You can learn about other modules associated with Date Time [Here](https://github.com/wumirose/tutorial-tkinter/blob/master/)"
   ]
  },
  {
   "cell_type": "markdown",
   "metadata": {
    "colab_type": "text",
    "id": "Byoc8LKNdSAg"
   },
   "source": [
    "## WebBrowser Module \n",
    "\n",
    "In Python, webbrowser module provides a high-level interface which allows displaying Web-based documents to users"
   ]
  },
  {
   "cell_type": "code",
   "execution_count": 50,
   "metadata": {},
   "outputs": [
    {
     "data": {
      "text/plain": [
       "True"
      ]
     },
     "execution_count": 50,
     "metadata": {},
     "output_type": "execute_result"
    }
   ],
   "source": [
    "import webbrowser \n",
    "webbrowser.open('http://www.python.org') \n",
    "\n",
    "\n",
    "#To use a new tab to open a web browser\n",
    "webbrowser.open_new('http://www.python.org') \n",
    "\n",
    "\n",
    "#To open with a specific browser\n",
    "#firefox = webbrowser.get('Firefox') \n",
    "#firefox.open('http://www.python.org') \n",
    "\n",
    "\n",
    "\n",
    "webbrowser.open_new_tab('http://docs.python.org') \n"
   ]
  },
  {
   "cell_type": "raw",
   "metadata": {},
   "source": [
    "#If the Code could not locate a runnable browser on your system,\n",
    "\n",
    "#Firstly, get a list of the recognized browsers on your system.\n",
    "print (webbrowser._browsers)\n",
    "\n",
    "#Register the browser path on your system\n",
    "Firefox_path = \"C:\\Program Files\\Mozilla Firefox\\firefox.exe\"\n",
    "webbrowser.register('firefox', None, webbrowser.BackgroundBrowser(Firefox_path),1)\n",
    "webbrowser.get('firefox').open('http://www.python.org',1)"
   ]
  },
  {
   "attachments": {
    "WebBrowser.JPG": {
     "image/jpeg": "[encoded data removed]"
    }
   },
   "cell_type": "markdown",
   "metadata": {},
   "source": [
    "### To get the browser path on your system\n",
    "\n",
    "* Click on the start menu and type the browser name\n",
    "* Right click on the name and select **Open file location** \n",
    "* Right click on the .exe file and select properties\n",
    "* Copy the address on the target column and paste in your program\n",
    "![WebBrowser.JPG](attachment:WebBrowser.JPG)\n",
    "* Close the properties dialog box"
   ]
  },
  {
   "cell_type": "markdown",
   "metadata": {
    "colab_type": "text",
    "id": "xxihPfzmdpy_"
   },
   "source": [
    "## Installing an external module \n",
    "\n",
    "There are cases where some vital modules that will be needed for your varied applications are not one of Python’s built in standard libraries. pip is the recommended installer. for dtails visit  [here](https://packaging.python.org/tutorials/installing-packages/)"
   ]
  },
  {
   "cell_type": "code",
   "execution_count": null,
   "metadata": {},
   "outputs": [],
   "source": [
    "#To install the latest version of “SomeProject”: \n",
    "#someproject should be replaced by the module you wish to install\n",
    "#Pip should be run on the command prompt else exclamation should be added to run pip in jupyter notebook\n",
    "pip install \"SomeProject\"\n",
    "\n",
    "#To install a specific version:\n",
    "pip install \"SomeProject==1.4\"\n",
    "\n",
    "#To install greater than or equal to one version and less than another:\n",
    "pip install \"SomeProject>=1,<2\"\n",
    "\n",
    "\n",
    "#To install a version that’s “compatible” with a certain version: [4]\n",
    "pip install \"SomeProject~=1.4.2\""
   ]
  },
  {
   "cell_type": "markdown",
   "metadata": {
    "colab_type": "text",
    "id": "GIX4ir9jduDR"
   },
   "source": [
    "## Tkinter Module \n",
    "\n",
    "Tkinter module allows us to create Graphical User Interface (GUI) applications. This a very important aspect of software development. \n",
    "\n",
    "A crash course on Tkinter module is avalable at [Here](https://www.tutorialspoint.com/python/python_date_time.htm) "
   ]
  },
  {
   "cell_type": "code",
   "execution_count": 53,
   "metadata": {
    "colab": {},
    "colab_type": "code",
    "id": "-T5FgjSOdUfn"
   },
   "outputs": [],
   "source": [
    "#Importing the Tkinter module\n",
    "from tkinter import *\n",
    "\n",
    "#Initializing the Tkinter module\n",
    "#This is an ordinary window, with a title bar and other decoration provided by your window manager\n",
    "window = Tk()\n",
    "\n",
    "window.title(\"My first Python GUI\")\n",
    "\n",
    "#we create a Label widget as a child to the main window \n",
    "w = Label(window, text=\"Hello, world!\")\n",
    "\n",
    "#This tells the Label named w to size itself to fit the given text, and make itself visible\n",
    "w.pack()\n",
    "\n",
    "#The program will stay in the event loop until we close the window.\n",
    "window.mainloop()"
   ]
  },
  {
   "cell_type": "markdown",
   "metadata": {},
   "source": [
    "## A GUI APP to add 2 numbers together  "
   ]
  },
  {
   "cell_type": "code",
   "execution_count": 55,
   "metadata": {},
   "outputs": [],
   "source": [
    "from tkinter import *\n",
    "\n",
    "wd = Tk()\n",
    "wd.title(\"Addition Calculator\")\n",
    "\n",
    "#create a Label widget as a child to the main window \n",
    "lb1 =Label(wd, text =\"Supply the first number\")\n",
    "lb1.grid(row =1, column =0)\n",
    "\n",
    "num1_txtbx =Entry(wd) #Creates a textbox that takes the first input\n",
    "num1_txtbx.grid(row =1, column =1) #To appear on the same row and next to lb1 text\n",
    "\n",
    "\n",
    "\n",
    "#we create another Label widget as a child to the main window \n",
    "lb2 = Label(wd, text =\"Supply the first number\")\n",
    "lb2.grid(row =2, column =0)\n",
    "\n",
    "num2_txtbx = Entry(wd) #Creates the second textbox that takes the second input\n",
    "num2_txtbx.grid(row =2, column =1) #To appear on the same row and next to lb1 text\n",
    "\n",
    "\n",
    "\n",
    "#Create a function to add the numbers\n",
    "def addF():\n",
    "    if (num1_txtbx.get() and num2_txtbx.get() != \"\"): #If the 2 boxers are not empty\n",
    "        try:  #Error handling: i..e execute everything here if real numbers are added else go to **except**\n",
    "            num1 =(num1_txtbx.get()) #Fetches what was typed in the textbox num1_txtbx\n",
    "            num2 =(num2_txtbx.get()) #Fetches what was typed in the textbox num2_txtbx\n",
    "\n",
    "            answer= num1 + num2                    #Add the two fetched number\n",
    "            answer_label.configure(text = answer)\n",
    "            status_label.configure(text =\"successful\")\n",
    "        except: #If the boxes are not empty but the entry is incorrect\"\n",
    "            status_label.configure(text =\"invalid input, check your input types\")\n",
    "    else: #i.e if box is empty\n",
    "        status_label.configure(text =\"fill in all the required fields\")\n",
    "        \n",
    "        \n",
    "        \n",
    "#CALCULATE BUTTON\n",
    "calculate_btn =Button(wd, text=\"calculate\", command= addF) #Create a *button* named *calculate* and embed function *add* underneath\n",
    "calculate_btn.grid(row =3, column =0, columnspan =2) #The button should be on the third row and span 2 columns \n",
    "\n",
    "\n",
    "\n",
    "#Styling the message box\n",
    "status_label =Label(wd, height =5, width =25, bg =\"black\", fg =\"#00FF00\", text =\"---\", wraplength =150)\n",
    "status_label.grid(row =4, column =0, columnspan =2) #\n",
    "\n",
    "answer_label =Label(wd, text =\"---\")\n",
    "answer_label.grid(row =5, column =0)\n",
    "        \n",
    "wd.mainloop()\n"
   ]
  },
  {
   "cell_type": "markdown",
   "metadata": {},
   "source": [
    "## Remember to check your taskbar for your App"
   ]
  }
 ],
 "metadata": {
  "colab": {
   "collapsed_sections": [],
   "name": "Python Week5",
   "provenance": [],
   "version": "0.3.2"
  },
  "kernelspec": {
   "display_name": "Python 3",
   "language": "python",
   "name": "python3"
  },
  "language_info": {
   "codemirror_mode": {
    "name": "ipython",
    "version": 3
   },
   "file_extension": ".py",
   "mimetype": "text/x-python",
   "name": "python",
   "nbconvert_exporter": "python",
   "pygments_lexer": "ipython3",
   "version": "3.6.4"
  }
 },
 "nbformat": 4,
 "nbformat_minor": 1
}
